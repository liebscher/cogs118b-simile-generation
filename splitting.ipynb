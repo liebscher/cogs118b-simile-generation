{
 "cells": [
  {
   "cell_type": "markdown",
   "metadata": {},
   "source": [
    "# Early Attempt"
   ]
  },
  {
   "cell_type": "code",
   "execution_count": null,
   "metadata": {},
   "outputs": [],
   "source": [
    "import pandas as pd\n",
    "import numpy as np\n",
    "import re\n",
    "\n",
    "import spacy\n",
    "\n",
    "nlp = spacy.load('en_core_web_sm')"
   ]
  },
  {
   "cell_type": "code",
   "execution_count": null,
   "metadata": {},
   "outputs": [],
   "source": [
    "from allennlp.commands.elmo import ElmoEmbedder\n",
    "elmo = ElmoEmbedder()"
   ]
  },
  {
   "cell_type": "code",
   "execution_count": null,
   "metadata": {},
   "outputs": [],
   "source": [
    "similes = pd.read_table('similes.txt', header=None, names=['simile'])"
   ]
  },
  {
   "cell_type": "code",
   "execution_count": null,
   "metadata": {},
   "outputs": [],
   "source": [
    "len(similes)"
   ]
  },
  {
   "cell_type": "code",
   "execution_count": null,
   "metadata": {},
   "outputs": [],
   "source": [
    "class Component():\n",
    "    \n",
    "    SUBJECT = 0\n",
    "    OBJECT = 1\n",
    "    TENOR = 2\n",
    "    VEHICLE = 3\n",
    "    GROUND = 4\n",
    "    EVENT = 5\n",
    "    \n",
    "    _type = ''\n",
    "    _phrase = []\n",
    "    def __init__(self, type_, phrase):\n",
    "        if type_ == self.SUBJECT:\n",
    "            self._type = 'subject'\n",
    "        elif type_ == self.OBJECT:\n",
    "            self._type = 'object'\n",
    "        elif type_ == self.TENOR:\n",
    "            self._type = 'tenor'\n",
    "        elif type_ == self.VEHICLE:\n",
    "            self._type = 'vehicle'\n",
    "        elif type_ == self.GROUND:\n",
    "            self._type = 'ground'\n",
    "        elif type_ == self.EVENT:\n",
    "            self._type = 'event'\n",
    "        else:\n",
    "            raise ValueError('Unknown component type')\n",
    "        \n",
    "        if isinstance(phrase, list):\n",
    "            self._phrase = phrase\n",
    "        elif isinstance(phrase, Component):\n",
    "            self._phrase = phrase._phrase\n",
    "                \n",
    "    def get_chain(self, index, reverse=False):\n",
    "        if reverse:\n",
    "            reverse = -1\n",
    "        else:\n",
    "            reverse = 1\n",
    "            \n",
    "        for item in self._phrase[::reverse]:\n",
    "            yield item[index]\n",
    "    \n",
    "    def get_phrase(self, start, stop=None):\n",
    "        if stop:\n",
    "            return self._phrase[start:stop]\n",
    "        \n",
    "        return self._phrase[start]\n",
    "            \n",
    "    def slice(self, index):\n",
    "        return self._phrase[:index], self._phrase[index:]\n",
    "    \n",
    "    def stitch(self):\n",
    "        return ' '.join(list(self.get_chain(0)))\n",
    "    \n",
    "    def __str__(self):\n",
    "        return f'{self._type}: {self._phrase}'\n",
    "    \n",
    "    def __repr__(self):\n",
    "        return f'{self._type}: {self._phrase}'\n",
    "    \n",
    "class Tenor(Component):\n",
    "    def __init__(self, phrase):\n",
    "        super().__init__(Component.TENOR, phrase)\n",
    "        \n",
    "class Vehicle(Component):\n",
    "    def __init__(self, phrase):\n",
    "        super().__init__(Component.VEHICLE, phrase)\n",
    "        \n",
    "class Ground(Component):\n",
    "    def __init__(self, phrase):\n",
    "        super().__init__(Component.GROUND, phrase)\n",
    "        \n",
    "class Event(Component):\n",
    "    def __init__(self, phrase):\n",
    "        super().__init__(Component.EVENT, phrase)"
   ]
  },
  {
   "cell_type": "code",
   "execution_count": null,
   "metadata": {},
   "outputs": [],
   "source": [
    "class Simile():\n",
    "    \n",
    "    MAX_LENGTH = 25\n",
    "    \n",
    "    _original = ''\n",
    "    _word_tensor = None\n",
    "    _comparator = ''\n",
    "    _subject = None\n",
    "    _object = None\n",
    "    \n",
    "    def __init__(self, text):\n",
    "        self._original = text\n",
    "\n",
    "    def build_tokens(self):\n",
    "        n = nlp(self._original)\n",
    "        tokens = [w.text for w in n][:self.MAX_LENGTH]\n",
    "        poss = [w.pos_ for w in n][:self.MAX_LENGTH]\n",
    "\n",
    "        empty_tensor = np.zeros((len(tokens), 1024))\n",
    "        s = elmo.embed_sentence(tokens)[1]\n",
    "        empty_tensor[:len(s), :] += s\n",
    "        \n",
    "        self._word_tensor = list(zip(tokens, poss, empty_tensor))\n",
    "        return self\n",
    "    \n",
    "    \n",
    "    \n",
    "    def split_subject_object(self):\n",
    "        _sub_obj_split = -1\n",
    "        for i, elm in enumerate(self._word_tensor):\n",
    "            if elm[0] == 'like':\n",
    "                self._comparator = 'like'\n",
    "                _sub_obj_split = i\n",
    "\n",
    "            if elm[0] == 'as' and self._comparator == 'as':\n",
    "                self._comparator = 'as...as'\n",
    "\n",
    "            if elm[0] == 'as' and self._comparator == '':\n",
    "                self._comparator = 'as'\n",
    "                _sub_obj_split = i\n",
    "                \n",
    "        self._subject = Component(Component.SUBJECT, self._word_tensor[:_sub_obj_split])\n",
    "        self._object = Component(Component.OBJECT, self._word_tensor[_sub_obj_split+1:])\n",
    "        return self._subject, self._object\n",
    "    \n",
    "    def extract_components(self):\n",
    "        tenor = Tenor([])\n",
    "        vehicle = Vehicle([])\n",
    "        ground = Ground([])\n",
    "        event = Event([])\n",
    "        \n",
    "        if self._comparator == 'like':\n",
    "            index = 1\n",
    "            for p in self._subject.get_chain(1, reverse=True):\n",
    "                if p == 'VERB':\n",
    "                    tenor, event = self._subject.slice(-index)\n",
    "                    break\n",
    "                index += 1\n",
    "                \n",
    "            tenor = Tenor(tenor)\n",
    "            vehicle = Vehicle(self._object)\n",
    "            event = Event(event)\n",
    "            \n",
    "#             print(list(self._subject.get_chain(1)))\n",
    "#             print(list(self._object.get_chain(1)))\n",
    "            \n",
    "        elif self._comparator == 'as':\n",
    "            index = 0\n",
    "            prev = ''\n",
    "            for p in self._subject.get_chain(1, reverse=True):\n",
    "                if index > 0 and p in ['NOUN', 'PUNCT'] and prev in ['ADJ', 'ADV']:\n",
    "                    nnp = index\n",
    "                    break\n",
    "                prev = p\n",
    "                index += 1\n",
    "\n",
    "            if index > 0:\n",
    "                ground, tenor = self._subject.slice(-index)\n",
    "                ground, tenor = Ground(ground), Tenor(tenor)\n",
    "            else:\n",
    "                tenor = Tenor(self._subject)\n",
    "\n",
    "            if tenor.get_phrase(0)[1] == 'VERB':\n",
    "                event, tenor = tenor.slice(1)\n",
    "                event, tenor = Event(event), Tenor(tenor)\n",
    "            elif tenor.get_phrase(-1)[1] == 'VERB':\n",
    "                tenor, event = tenor.slice(-1)\n",
    "                tenor, event = Tenor(tenor), Event(event)\n",
    "                \n",
    "            vehicle = Vehicle(self._object)\n",
    "            \n",
    "        elif self._comparator == 'as...as':\n",
    "        \n",
    "            text_parts = {'ground': [], 'vehicle': []}\n",
    "\n",
    "            index = 0\n",
    "            for w in self._object.get_chain(0):\n",
    "                if w == 'as':\n",
    "                    ground, vehicle = self._object.slice(index)\n",
    "                index += 1\n",
    "\n",
    "            if self._subject.get_phrase(-1)[1] == 'VERB':\n",
    "                tenor, event = self._subject.slice(-1)\n",
    "                tenor, event = Tenor(tenor), Event(event)\n",
    "            else:\n",
    "                tenor = Tenor(self._subject)\n",
    "\n",
    "            ground = Ground(ground)\n",
    "            vehicle = Vehicle(vehicle[1:])\n",
    "    \n",
    "        return tenor, vehicle, ground, event\n",
    "    \n",
    "    def __repr__(self):\n",
    "        return f'{self._original}\\n{self._comparator}'"
   ]
  },
  {
   "cell_type": "code",
   "execution_count": null,
   "metadata": {},
   "outputs": [],
   "source": [
    "# def chunk(simile):\n",
    "#     s = Simile(simile).build_tokens()\n",
    "#     s.split_subject_object()\n",
    "#     comps = s.extract_components()\n",
    "        \n",
    "#     return {\n",
    "#         'tenor': comps[0].stitch(),\n",
    "#         'vehicle': comps[1].stitch(),\n",
    "#         'ground': comps[2].stitch(),\n",
    "#         'event': comps[3].stitch(),\n",
    "#     }"
   ]
  },
  {
   "cell_type": "code",
   "execution_count": null,
   "metadata": {},
   "outputs": [],
   "source": [
    "s = 'A shadow of melancholy touched her lithe fancies, as a cloud dims the waving of golden grain'\n",
    "\n",
    "Simile(s).build_tokens()\n"
   ]
  },
  {
   "cell_type": "code",
   "execution_count": null,
   "metadata": {},
   "outputs": [],
   "source": [
    "d = pd.DataFrame().from_records(similes['simile'].apply(lambda r: chunk(r)))"
   ]
  },
  {
   "cell_type": "code",
   "execution_count": 49,
   "metadata": {},
   "outputs": [
    {
     "data": {
      "text/html": [
       "<div>\n",
       "<style scoped>\n",
       "    .dataframe tbody tr th:only-of-type {\n",
       "        vertical-align: middle;\n",
       "    }\n",
       "\n",
       "    .dataframe tbody tr th {\n",
       "        vertical-align: top;\n",
       "    }\n",
       "\n",
       "    .dataframe thead th {\n",
       "        text-align: right;\n",
       "    }\n",
       "</style>\n",
       "<table border=\"1\" class=\"dataframe\">\n",
       "  <thead>\n",
       "    <tr style=\"text-align: right;\">\n",
       "      <th></th>\n",
       "      <th>comparator</th>\n",
       "      <th>event</th>\n",
       "      <th>ground</th>\n",
       "      <th>tenor</th>\n",
       "      <th>vehicle</th>\n",
       "    </tr>\n",
       "  </thead>\n",
       "  <tbody>\n",
       "    <tr>\n",
       "      <th>54</th>\n",
       "      <td>as...as</td>\n",
       "      <td>None</td>\n",
       "      <td>pale</td>\n",
       "      <td>A stooping girl</td>\n",
       "      <td>a pearl</td>\n",
       "    </tr>\n",
       "    <tr>\n",
       "      <th>115</th>\n",
       "      <td>like</td>\n",
       "      <td>maddens the soul</td>\n",
       "      <td>None</td>\n",
       "      <td>Beauty</td>\n",
       "      <td>wine</td>\n",
       "    </tr>\n",
       "    <tr>\n",
       "      <th>303</th>\n",
       "      <td>like</td>\n",
       "      <td>turned on me</td>\n",
       "      <td>None</td>\n",
       "      <td>He</td>\n",
       "      <td>a thunder cloud</td>\n",
       "    </tr>\n",
       "    <tr>\n",
       "      <th>437</th>\n",
       "      <td>as</td>\n",
       "      <td>was</td>\n",
       "      <td>None</td>\n",
       "      <td>It</td>\n",
       "      <td>if a door had been opened into a furnace so th...</td>\n",
       "    </tr>\n",
       "    <tr>\n",
       "      <th>875</th>\n",
       "      <td>like</td>\n",
       "      <td>felt I</td>\n",
       "      <td>None</td>\n",
       "      <td>Then</td>\n",
       "      <td>some watcher of the skies</td>\n",
       "    </tr>\n",
       "  </tbody>\n",
       "</table>\n",
       "</div>"
      ],
      "text/plain": [
       "    comparator             event ground            tenor  \\\n",
       "54     as...as              None   pale  A stooping girl   \n",
       "115       like  maddens the soul   None           Beauty   \n",
       "303       like      turned on me   None               He   \n",
       "437         as               was   None               It   \n",
       "875       like            felt I   None             Then   \n",
       "\n",
       "                                               vehicle  \n",
       "54                                             a pearl  \n",
       "115                                               wine  \n",
       "303                                    a thunder cloud  \n",
       "437  if a door had been opened into a furnace so th...  \n",
       "875                          some watcher of the skies  "
      ]
     },
     "execution_count": 49,
     "metadata": {},
     "output_type": "execute_result"
    }
   ],
   "source": [
    "d.sample(5)"
   ]
  },
  {
   "cell_type": "markdown",
   "metadata": {},
   "source": [
    "# Measures of Similarity\n",
    "\n",
    "Making use of ELMO"
   ]
  },
  {
   "cell_type": "code",
   "execution_count": 23,
   "metadata": {},
   "outputs": [
    {
     "data": {
      "text/plain": [
       "((1024,), (1024,), (1024,))"
      ]
     },
     "execution_count": 23,
     "metadata": {},
     "output_type": "execute_result"
    }
   ],
   "source": [
    "chnk = chunk('The car is as clean as a washed slate')\n",
    "\n",
    "tenor_vec = np.array([w['vec'] for w in chnk['subject'][:-1]]).mean(axis=0)\n",
    "ground_vec = np.array([chnk['subject'][-1]['vec']]).mean(axis=0)\n",
    "vehicle_vec = np.array([w['vec'] for w in chnk['object'][1:]]).mean(axis=0)\n",
    "\n",
    "tenor_vec.shape, ground_vec.shape, vehicle_vec.shape"
   ]
  },
  {
   "cell_type": "code",
   "execution_count": 18,
   "metadata": {},
   "outputs": [
    {
     "data": {
      "text/plain": [
       "((1024,), (1024,), (1024,))"
      ]
     },
     "execution_count": 18,
     "metadata": {},
     "output_type": "execute_result"
    }
   ],
   "source": [
    "chnk = chunk('She is as burnt as a blue whale')\n",
    "\n",
    "tenor_vec2 = np.array([w['vec'] for w in chnk['subject'][:-1]]).mean(axis=0)\n",
    "ground_vec2 = np.array([chnk['subject'][-1]['vec']]).mean(axis=0)\n",
    "vehicle_vec2 = np.array([w['vec'] for w in chnk['object'][1:]]).mean(axis=0)\n",
    "\n",
    "tenor_vec2.shape, ground_vec2.shape, vehicle_vec2.shape"
   ]
  },
  {
   "cell_type": "code",
   "execution_count": 24,
   "metadata": {},
   "outputs": [
    {
     "data": {
      "text/plain": [
       "(array([0.54225752]), array([0.78717851]), array([0.69348162]))"
      ]
     },
     "execution_count": 24,
     "metadata": {},
     "output_type": "execute_result"
    }
   ],
   "source": [
    "1-pdist([tenor_vec, tenor_vec2], 'cosine'), 1-pdist([ground_vec, ground_vec2], 'cosine'), 1-pdist([vehicle_vec, vehicle_vec2], 'cosine')"
   ]
  },
  {
   "cell_type": "code",
   "execution_count": 112,
   "metadata": {},
   "outputs": [
    {
     "name": "stdout",
     "output_type": "stream",
     "text": [
      "(6, 1024)\n",
      "(15, 1024)\n",
      "(6, 1024)\n",
      "(15, 1024)\n"
     ]
    }
   ],
   "source": [
    "tokens1 = [w.text for w in nlp('Her battle against cancer raged on')]\n",
    "tokens2 = [w.text for w in nlp('The journey through cancer was long')]\n",
    "\n",
    "sents = [tokens1, tokens2]\n",
    "\n",
    "ws_d0 = []\n",
    "ws_d1 = []\n",
    "ws_d2 = []\n",
    "\n",
    "\n",
    "for v in elmo.embed_sentences(sents):\n",
    "    empty_tensor = np.zeros((15, 1024))\n",
    "#     ws_d0.append(v[0][:6])\n",
    "#     ws_d1.append(v[1][:6])\n",
    "#     ws_d2.append(v[2][:6])\n",
    "    print(v[1].shape)\n",
    "    empty_tensor[:len(v[1]), :] += v[1]\n",
    "    print(empty_tensor.shape)\n",
    "    \n",
    "ws_d0, ws_d1, ws_d2 = np.array(ws_d0), np.array(ws_d1), np.array(ws_d2)"
   ]
  },
  {
   "cell_type": "code",
   "execution_count": null,
   "metadata": {},
   "outputs": [],
   "source": [
    "from scipy.spatial.distance import cdist, pdist"
   ]
  },
  {
   "cell_type": "code",
   "execution_count": null,
   "metadata": {},
   "outputs": [],
   "source": [
    "import seaborn as sns\n",
    "import matplotlib.pyplot as plt"
   ]
  },
  {
   "cell_type": "code",
   "execution_count": 97,
   "metadata": {},
   "outputs": [
    {
     "data": {
      "text/plain": [
       "<matplotlib.axes._subplots.AxesSubplot at 0x1a4abdfa90>"
      ]
     },
     "execution_count": 97,
     "metadata": {},
     "output_type": "execute_result"
    },
    {
     "data": {
      "image/png": "[encoded data removed]",
      "text/plain": [
       "<Figure size 1008x288 with 6 Axes>"
      ]
     },
     "metadata": {},
     "output_type": "display_data"
    }
   ],
   "source": [
    "plt.subplots(figsize=(14,4))\n",
    "plt.tight_layout()\n",
    "plt.subplot(131)\n",
    "sns.heatmap(1-cdist(ws_d0[0], ws_d0[1], 'cosine'), yticklabels=tokens1[:6], xticklabels=tokens2[:6], vmin=0, vmax=1)\n",
    "\n",
    "plt.subplot(132)\n",
    "sns.heatmap(1-cdist(ws_d1[0], ws_d1[1], 'cosine'), yticklabels=tokens1[:6], xticklabels=tokens2[:6], vmin=0, vmax=1)\n",
    "\n",
    "plt.subplot(133)\n",
    "sns.heatmap(1-cdist(ws_d2[0], ws_d2[1], 'cosine'), yticklabels=tokens1[:6], xticklabels=tokens2[:6], vmin=0, vmax=1)"
   ]
  },
  {
   "cell_type": "code",
   "execution_count": 104,
   "metadata": {},
   "outputs": [
    {
     "data": {
      "text/plain": [
       "(0.03195305364545267, 0.25118495995725143)"
      ]
     },
     "execution_count": 104,
     "metadata": {},
     "output_type": "execute_result"
    }
   ],
   "source": [
    "(1-cdist(ws_d0[0], ws_d0[1], 'cosine')).mean(), (1-cdist(ws_d2[0], ws_d2[1], 'cosine')).mean()"
   ]
  },
  {
   "cell_type": "markdown",
   "metadata": {},
   "source": [
    "## Early Rule-based solution"
   ]
  },
  {
   "cell_type": "code",
   "execution_count": null,
   "metadata": {},
   "outputs": [],
   "source": [
    "def get_text(phrase):\n",
    "    return ' '.join([w['text'].text for w in phrase if w['pos'] != 'PUNCT'])\n",
    "\n",
    "def chunk(simile):\n",
    "        \n",
    "    # determine the subject and the object of the simile\n",
    "    syntax = {'subject': [], 'object': []}\n",
    "    \n",
    "    key = 'subject'\n",
    "    comparator = ''\n",
    "    tokens = []\n",
    "    \n",
    "    for w, vec in zip(n, empty_tensor):\n",
    "        if w.text == 'like':\n",
    "            comparator = 'like'\n",
    "            key = 'object'\n",
    "            \n",
    "        if w.text == 'as' and comparator == 'as':\n",
    "            comparator = 'as...as'\n",
    "            \n",
    "        if w.text == 'as' and comparator == '':\n",
    "            comparator = 'as'\n",
    "            key = 'object'\n",
    "        \n",
    "        # store the word text, its POS, and its vector\n",
    "        syntax[key].append({'text': w, 'pos': w.pos_, 'vec': vec})\n",
    "                    \n",
    "    tenor = None\n",
    "    ground = None\n",
    "    vehicle = None\n",
    "    event = None\n",
    "    tenor_vec = None\n",
    "    ground_vec = None\n",
    "    vehicle_vec = None\n",
    "    event_vec = None\n",
    "    \n",
    "#     return syntax\n",
    "    \n",
    "    if comparator == 'as...as':\n",
    "        \n",
    "        text_parts = {'ground': [], 'vehicle': []}\n",
    "        vec_parts = {'ground': [], 'vehicle': []}\n",
    "        \n",
    "        key = 'ground'\n",
    "        for w in syntax['object'][1:]:\n",
    "            if w['text'].text == 'as':\n",
    "                key = 'vehicle'\n",
    "                continue\n",
    "                \n",
    "            text_parts[key].append(w)\n",
    "            vec_parts[key].append()\n",
    "        \n",
    "        \n",
    "        if syntax['subject'][-1]['pos'] == 'VERB':\n",
    "            event = syntax['subject'][-1]['text']\n",
    "            tenor = get_text(syntax['subject'][:-1])\n",
    "        else:\n",
    "            tenor = get_text(syntax['subject'])\n",
    "            \n",
    "        ground = get_text(parts['ground']) # good\n",
    "        vehicle = get_text(parts['vehicle']) # good\n",
    "                \n",
    "    elif comparator == 'like':\n",
    "        parts = {'tenor': [], 'event': []}\n",
    "        \n",
    "        key = 'event'\n",
    "        for w in syntax['subject'][::-1]:\n",
    "            parts[key].append(w)\n",
    "            if w['pos'] == 'VERB':\n",
    "                key = 'tenor'\n",
    "                \n",
    "        if not parts['tenor']:\n",
    "            event_verbs = [1 for e in parts['event'] if e['pos'] == 'VERB']\n",
    "            if sum(event_verbs) == 0:\n",
    "                parts['tenor'] = parts['event']\n",
    "                parts['event'] = []\n",
    "        \n",
    "        tenor = get_text(parts['tenor'][::-1])\n",
    "        event = get_text(parts['event'][::-1])\n",
    "        vehicle = get_text(syntax['object'][1:])\n",
    "            \n",
    "    elif comparator == 'as':\n",
    "        \n",
    "        nnp = 0\n",
    "        for i, w in enumerate(syntax['subject'][::-1]):\n",
    "            if i > 0 and w['pos'] in ['NOUN', 'PUNCT'] and syntax['subject'][-i]['pos'] in ['ADJ', 'ADV']:\n",
    "                nnp = i\n",
    "                                \n",
    "        if nnp > 0:\n",
    "            ground = get_text(syntax['subject'][-nnp:])\n",
    "            tenor = syntax['subject'][:-nnp]\n",
    "        else:\n",
    "            tenor = syntax['subject']\n",
    "            \n",
    "        if tenor[0]['pos'] == 'VERB':\n",
    "            event = tenor[0]['text']\n",
    "            tenor = tenor[1:]\n",
    "        elif tenor[-1]['pos'] == 'VERB':\n",
    "            event = tenor[-1]['text']\n",
    "            tenor = tenor[:-1]\n",
    "            \n",
    "        tenor = get_text(tenor)\n",
    "            \n",
    "        vehicle = get_text(syntax['object'][1:])\n",
    "        \n",
    "    return {'tenor': tenor, 'ground': ground, 'vehicle': vehicle, 'event': event, 'comparator': comparator}"
   ]
  }
 ],
 "metadata": {
  "kernelspec": {
   "display_name": "Python 3",
   "language": "python",
   "name": "python3"
  },
  "language_info": {
   "codemirror_mode": {
    "name": "ipython",
    "version": 3
   },
   "file_extension": ".py",
   "mimetype": "text/x-python",
   "name": "python",
   "nbconvert_exporter": "python",
   "pygments_lexer": "ipython3",
   "version": "3.6.3"
  }
 },
 "nbformat": 4,
 "nbformat_minor": 2
}
