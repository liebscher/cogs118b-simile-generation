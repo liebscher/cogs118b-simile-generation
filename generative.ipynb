{
 "cells": [
  {
   "cell_type": "markdown",
   "metadata": {},
   "source": [
    "https://vene.ro/figurative-comparisons/#dataset\n",
    "\n",
    "http://www.ep.liu.se/ecp/126/004/ecp16126004.pdf"
   ]
  },
  {
   "cell_type": "markdown",
   "metadata": {},
   "source": [
    "https://www.aclweb.org/anthology/P13-3013\n",
    "\n",
    "http://www.cs.toronto.edu/~frank/csc401/readings/ReynoldsRose.pdf"
   ]
  },
  {
   "cell_type": "markdown",
   "metadata": {},
   "source": [
    "https://ansible.uk/misc/striking.html\n",
    "\n",
    "in similes.txt, all phrases starting with 'Like' and 'As' were removed\n",
    "\n",
    "Any old English, like \"a flutter'd bird\" were translated to modern spellings.\n",
    "\n",
    "https://github.com/allenai/bilm-tf\n",
    "\n",
    "http://www.english.su.se/polopoly_fs/1.100637.1347450592!/menu/standard/file/SMF_2012_Patrick_Hanks_plenary.pdf\n",
    "\n",
    "https://www.academicscope.com/literature-review-on-automatic-simile-and-metaphor-recognizers/"
   ]
  },
  {
   "cell_type": "markdown",
   "metadata": {},
   "source": [
    "McLachlan, G. J., & Rathnayake, S. (2014). On the number of components in a Gaussian mixture model. Wiley Interdisciplinary Reviews: Data Mining and Knowledge Discovery, 4(5), 341-355.\n",
    "\n",
    "http://aclweb.org/anthology/W18-09\n",
    "\n",
    "Computational considerations of comparisons and similes\n",
    "https://www.aclweb.org/anthology/P13-3013\n",
    "\n",
    "A Computational System of Metaphor Generation with Evaluation Mechanism\n",
    "https://rd.springer.com/content/pdf/10.1007%2F978-3-642-15822-3_18.pdf\n",
    "\n",
    "Towards the Automatic Mining of Similes in Literary Texts\n",
    "http://www.ep.liu.se/ecp/126/004/ecp16126004.pdf\n",
    "\n",
    "Literature Review on Automatic Simile and Metaphor Recognizers\n",
    "https://www.academicscope.com/literature-review-on-automatic-simile-and-metaphor-recognizers/\n",
    "\n",
    "https://github.com/alexWhitworth/emclustr/blob/master/R/clust_mvn_miss.R"
   ]
  },
  {
   "cell_type": "code",
   "execution_count": 1,
   "metadata": {},
   "outputs": [],
   "source": [
    "import pandas as pd\n",
    "import numpy as np\n",
    "\n",
    "from itertools import permutations\n",
    "from scipy.stats import multivariate_normal\n",
    "from scipy.spatial.distance import pdist\n",
    "\n",
    "from sklearn.decomposition import KernelPCA\n",
    "from sklearn.mixture import GaussianMixture\n",
    "\n",
    "import seaborn as sns\n",
    "import matplotlib.pyplot as plt\n",
    "\n",
    "from gensim.models.keyedvectors import KeyedVectors\n",
    "import spacy\n",
    "\n",
    "nlp = spacy.load('en_core_web_sm')"
   ]
  },
  {
   "cell_type": "code",
   "execution_count": 2,
   "metadata": {},
   "outputs": [],
   "source": [
    "# from allennlp.commands.elmo import ElmoEmbedder\n",
    "# elmo = ElmoEmbedder()"
   ]
  },
  {
   "cell_type": "code",
   "execution_count": 2,
   "metadata": {},
   "outputs": [],
   "source": [
    "model = KeyedVectors.load_word2vec_format('/Volumes/microSD/COGS118b/google-news.bin', binary=True)"
   ]
  },
  {
   "cell_type": "markdown",
   "metadata": {},
   "source": [
    "# Simile data\n",
    "\n",
    "Components are manually extracted"
   ]
  },
  {
   "cell_type": "code",
   "execution_count": 3,
   "metadata": {},
   "outputs": [],
   "source": [
    "component_tags = ['topic', 'event', 'ground', 'vehicle']"
   ]
  },
  {
   "cell_type": "code",
   "execution_count": 4,
   "metadata": {},
   "outputs": [
    {
     "name": "stdout",
     "output_type": "stream",
     "text": [
      "CPU times: user 5.71 s, sys: 197 ms, total: 5.91 s\n",
      "Wall time: 3.11 s\n"
     ]
    },
    {
     "data": {
      "text/plain": [
       "345"
      ]
     },
     "execution_count": 4,
     "metadata": {},
     "output_type": "execute_result"
    }
   ],
   "source": [
    "sentences = pd.read_json('similes.json', orient='records')\n",
    "\n",
    "%time sentences['nlp'] = sentences['original'].apply(lambda text: nlp(text))\n",
    "\n",
    "len(sentences)"
   ]
  },
  {
   "cell_type": "code",
   "execution_count": 5,
   "metadata": {},
   "outputs": [],
   "source": [
    "def embed_tokens(tokens):\n",
    "    \n",
    "#     elmo_v = elmo.embed_sentence(tokens)[1]\n",
    "\n",
    "    w2v_v = np.ones((len(tokens), 300)) * np.nan\n",
    "    for i, tk in enumerate(tokens):\n",
    "        try:\n",
    "            w2v_v[i, :] = model[tk]\n",
    "        except:\n",
    "            if tk not in OOV:\n",
    "                OOV.append(tk)\n",
    "    \n",
    "    return w2v_v #np.hstack([elmo_v, w2v_v])"
   ]
  },
  {
   "cell_type": "code",
   "execution_count": 6,
   "metadata": {},
   "outputs": [
    {
     "name": "stdout",
     "output_type": "stream",
     "text": [
      "220 event\n",
      "280 ground\n",
      "332 ground\n"
     ]
    }
   ],
   "source": [
    "OOV = []\n",
    "\n",
    "topic_vectors =   np.zeros((len(sentences), 300))\n",
    "event_vectors =   np.zeros((len(sentences), 300))\n",
    "ground_vectors =  np.zeros((len(sentences), 300))\n",
    "vehicle_vectors = np.zeros((len(sentences), 300))\n",
    "\n",
    "for ix, s in sentences.iterrows():\n",
    "    \n",
    "    tokens = np.array([tk.text for tk in s['nlp']])\n",
    "    embedding = embed_tokens(tokens)\n",
    "        \n",
    "    for tag, vec in zip(component_tags, [topic_vectors, event_vectors, ground_vectors, vehicle_vectors]):\n",
    "        if s[tag]:\n",
    "            emb = embedding[s[tag], :]\n",
    "            \n",
    "            if np.isnan(emb).all():\n",
    "                print(ix, tag)\n",
    "                mn = np.zeros((300, ))\n",
    "            else:\n",
    "                mn = np.nanmean(emb, axis=0)\n",
    "\n",
    "            vec[ix] = mn"
   ]
  },
  {
   "cell_type": "code",
   "execution_count": 7,
   "metadata": {},
   "outputs": [
    {
     "name": "stdout",
     "output_type": "stream",
     "text": [
      "['a', 'and', 'of', 'to', 'Pillowed', 'overwearied', ',', 'lampless', '-', \"'s\", 'graved', \"'\", 'empurpled', 'hadst', 'dovelike', 'Shrivel', 'rosewhite', 'Beauteous', 'unfallen', 'bleared', 'Shapeless', 'aigrette']\n"
     ]
    }
   ],
   "source": [
    "print(OOV)"
   ]
  },
  {
   "cell_type": "markdown",
   "metadata": {},
   "source": [
    "# Similarity with Latent Component\n",
    "\n",
    "If we remove a component, the overall syntatical expression remains with a predictability that hopefully can be leveraged with a Gaussian Mixture Model (or some other latent variable maximization algorithm). "
   ]
  },
  {
   "cell_type": "code",
   "execution_count": 113,
   "metadata": {},
   "outputs": [],
   "source": [
    "inp = {'original': 'His love burned as passionately as', 'topic': [0,1], 'ground': [4], 'event': [2], 'vehicle': None}\n",
    "\n",
    "tokens = np.array([tk.text for tk in nlp(inp['original'])])\n",
    "\n",
    "example_topic_vector =   np.zeros((1, 300)) #.random.normal(scale=0.5, size=(1, 300))\n",
    "example_event_vector =   np.zeros((1, 300)) #.random.normal(scale=0.5, size=(1, 300))\n",
    "example_ground_vector =  np.zeros((1, 300)) #.random.normal(scale=0.5, size=(1, 300))\n",
    "example_vehicle_vector = np.zeros((1, 300)) #.random.normal(scale=0.5, size=(1, 300))\n",
    "\n",
    "embedding = embed_tokens(tokens)\n",
    "\n",
    "if inp['topic']:\n",
    "    example_topic_vector = embedding[inp['topic']].mean(axis=0)\n",
    "if inp['event']:\n",
    "    example_event_vector = embedding[inp['event']].mean(axis=0)\n",
    "if inp['ground']:\n",
    "    example_ground_vector = embedding[inp['ground']].mean(axis=0)\n",
    "if inp['vehicle']:\n",
    "    example_vehicle_vector = embedding[inp['vehicle']].mean(axis=0)\n"
   ]
  },
  {
   "cell_type": "code",
   "execution_count": 114,
   "metadata": {
    "scrolled": true
   },
   "outputs": [
    {
     "data": {
      "image/png": "[encoded data removed]",
      "text/plain": [
       "<Figure size 432x288 with 2 Axes>"
      ]
     },
     "metadata": {},
     "output_type": "display_data"
    }
   ],
   "source": [
    "yax_labs = ['', '', '', '']\n",
    "xax_labs = ['', '', '', '']\n",
    "ds = np.zeros((4,4))\n",
    "\n",
    "comp = 14\n",
    "\n",
    "norm = [topic_vectors[comp, :], event_vectors[comp, :], ground_vectors[comp, :], vehicle_vectors[comp, :]]\n",
    "example = [example_topic_vector, example_event_vector, example_ground_vector, example_vehicle_vector]\n",
    "labels = ['topic', 'event', 'ground', 'vehicle']\n",
    "\n",
    "for i in range(4):\n",
    "    e = sentences.loc[comp, [labels[i], 'original']].values\n",
    "    phrase1 = np.array([tk.text for tk in nlp(e[1])])[e[0]]\n",
    "    yax_labs[i] = ' '.join(phrase1)\n",
    "    if inp[labels[i]]:\n",
    "        d = 1 - pdist(np.vstack([norm[i], example[i]]), 'cosine')\n",
    "    \n",
    "        ds[i, i] = d\n",
    "        \n",
    "        e = sentences.loc[comp, [labels[i], 'original']].values\n",
    "        \n",
    "        phrase2 = np.array([tk.text for tk in nlp(inp['original'])])[inp[labels[i]]]\n",
    "        xax_labs[i] = ' '.join(phrase2)\n",
    "    elif inp[labels[i]] is None:\n",
    "        xax_labs[i] = 'LAT'\n",
    "\n",
    "g = sns.heatmap(ds, vmin=0, vmax=1, annot=True, cmap='copper')\n",
    "g.set_xticklabels(xax_labs, rotation=30);\n",
    "g.set_yticklabels(yax_labs, rotation=30);\n",
    "plt.title('Simile Component Cosine Similarity')\n",
    "plt.tight_layout()\n",
    "plt.savefig('component_cos_similarity.png', dpi=300)"
   ]
  },
  {
   "cell_type": "markdown",
   "metadata": {},
   "source": [
    "# Dimension Reduction"
   ]
  },
  {
   "cell_type": "code",
   "execution_count": 10,
   "metadata": {},
   "outputs": [],
   "source": [
    "def get_component(simile_ix, comp):\n",
    "    comp = sentences.loc[simile_ix, comp]\n",
    "    return ' '.join([tk.text for i, tk in enumerate(sentences.loc[simile_ix, 'nlp']) if i in comp])"
   ]
  },
  {
   "cell_type": "markdown",
   "metadata": {},
   "source": [
    "# GMM"
   ]
  },
  {
   "cell_type": "markdown",
   "metadata": {},
   "source": [
    "Check the mean/skew/kurtosis visually of the embeddings"
   ]
  },
  {
   "cell_type": "code",
   "execution_count": 11,
   "metadata": {},
   "outputs": [
    {
     "data": {
      "text/plain": [
       "<matplotlib.axes._subplots.AxesSubplot at 0x1b44c31668>"
      ]
     },
     "execution_count": 11,
     "metadata": {},
     "output_type": "execute_result"
    },
    {
     "data": {
      "image/png": "[encoded data removed]",
      "text/plain": [
       "<Figure size 432x288 with 1 Axes>"
      ]
     },
     "metadata": {},
     "output_type": "display_data"
    }
   ],
   "source": [
    "sns.distplot(topic_vectors.mean(axis=0), color='k')\n",
    "sns.distplot(event_vectors.mean(axis=0), color='g')\n",
    "sns.distplot(ground_vectors.mean(axis=0), color='r')\n",
    "sns.distplot(vehicle_vectors.mean(axis=0), color='b')"
   ]
  },
  {
   "cell_type": "code",
   "execution_count": 12,
   "metadata": {},
   "outputs": [],
   "source": [
    "ns = np.linspace(int(len(sentences)*0.04), int(len(sentences)*0.96), 24).astype(int)"
   ]
  },
  {
   "cell_type": "markdown",
   "metadata": {},
   "source": [
    "\\# of components relies on the complexity of the input vectors"
   ]
  },
  {
   "cell_type": "code",
   "execution_count": 13,
   "metadata": {},
   "outputs": [],
   "source": [
    "import random\n",
    "vecs_shuffled_all = np.array([\n",
    "    random.sample(topic_vectors.tolist(), len(topic_vectors)),\n",
    "    random.sample(event_vectors.tolist(), len(event_vectors)), \n",
    "    random.sample(ground_vectors.tolist(), len(ground_vectors)), \n",
    "    random.sample(vehicle_vectors.tolist(), len(vehicle_vectors))])"
   ]
  },
  {
   "cell_type": "markdown",
   "metadata": {},
   "source": [
    "# Autoencoder"
   ]
  },
  {
   "cell_type": "code",
   "execution_count": 52,
   "metadata": {},
   "outputs": [
    {
     "name": "stderr",
     "output_type": "stream",
     "text": [
      "/Users/alex/anaconda3/lib/python3.6/site-packages/h5py/__init__.py:34: FutureWarning: Conversion of the second argument of issubdtype from `float` to `np.floating` is deprecated. In future, it will be treated as `np.float64 == np.dtype(float).type`.\n",
      "  from ._conv import register_converters as _register_converters\n",
      "Using TensorFlow backend.\n"
     ]
    }
   ],
   "source": [
    "from keras.layers import Input, Dense\n",
    "from keras.models import Model"
   ]
  },
  {
   "cell_type": "code",
   "execution_count": 175,
   "metadata": {},
   "outputs": [],
   "source": [
    "def create_encoder(data, encoding_dim):\n",
    "\n",
    "    input_vec = Input(shape=(300,))\n",
    "    encoded = Dense(128, activation='sigmoid')(input_vec)\n",
    "    encoded = Dense(encoding_dim, activation='sigmoid')(encoded)\n",
    "    \n",
    "    decoded = Dense(128, activation='sigmoid')(encoded)\n",
    "    decoded = Dense(300, activation='sigmoid')(decoded)\n",
    "\n",
    "    # this model maps an input to its reconstruction\n",
    "    autoencoder = Model(input_vec, decoded)\n",
    "    encoder = Model(input_vec, encoded)\n",
    "    \n",
    "    autoencoder.compile(optimizer='adadelta', loss='binary_crossentropy')\n",
    "    \n",
    "    st = np.array(random.sample(data, len(data)))\n",
    "\n",
    "    X_train = st[:int(len(data) * 0.6), :]\n",
    "    X_test = st[int(len(data) * 0.6):, :]\n",
    "    \n",
    "    h = autoencoder.fit(X_train, X_train,\n",
    "                    epochs=120,\n",
    "                    batch_size=64,\n",
    "                    shuffle=True,\n",
    "                    validation_data=(X_test, X_test), verbose=0)\n",
    "    \n",
    "    histories.append(h.history['loss'])\n",
    "    \n",
    "    print(f'Fit {encoding_dim}')\n",
    "    \n",
    "    return encoder"
   ]
  },
  {
   "cell_type": "code",
   "execution_count": 176,
   "metadata": {},
   "outputs": [
    {
     "name": "stdout",
     "output_type": "stream",
     "text": [
      "Fit 8\n",
      "Fit 8\n",
      "Fit 8\n",
      "Fit 8\n",
      "Fit 16\n",
      "Fit 16\n",
      "Fit 16\n",
      "Fit 16\n",
      "Fit 32\n",
      "Fit 32\n",
      "Fit 32\n",
      "Fit 32\n",
      "Fit 64\n",
      "Fit 64\n",
      "Fit 64\n",
      "Fit 64\n"
     ]
    }
   ],
   "source": [
    "dims = [8, 16, 32, 64]\n",
    "\n",
    "\n",
    "histories = []\n",
    "\n",
    "encoders = [[\n",
    "    create_encoder(topic_vectors.tolist(), dim),\n",
    "    create_encoder(event_vectors.tolist(), dim),\n",
    "    create_encoder(ground_vectors.tolist(), dim),\n",
    "    create_encoder(vehicle_vectors.tolist(), dim)\n",
    "] for dim in dims]"
   ]
  },
  {
   "cell_type": "code",
   "execution_count": 177,
   "metadata": {},
   "outputs": [
    {
     "name": "stdout",
     "output_type": "stream",
     "text": [
      "Search over 8 finished\n",
      "Search over 16 finished\n",
      "Search over 32 finished\n",
      "Search over 64 finished\n"
     ]
    }
   ],
   "source": [
    "vecs_array = np.array([topic_vectors, event_vectors, ground_vectors, vehicle_vectors])\n",
    "\n",
    "scores = np.zeros((len(dims), len(ns)))\n",
    "    \n",
    "for i, dim in enumerate(dims):\n",
    "\n",
    "    redu_topic_vectors = encoders[i][0].predict(vecs_array[0])\n",
    "    redu_event_vectors = encoders[i][1].predict(vecs_array[1])\n",
    "    redu_ground_vectors = encoders[i][2].predict(vecs_array[2])\n",
    "    redu_vehicle_vectors = encoders[i][3].predict(vecs_array[3])\n",
    "\n",
    "    redu_shuf_topic_vectors = encoders[i][0].predict(vecs_shuffled_all[0])\n",
    "    redu_shuf_event_vectors = encoders[i][1].predict(vecs_shuffled_all[1])\n",
    "    redu_shuf_ground_vectors = encoders[i][2].predict(vecs_shuffled_all[2])\n",
    "    redu_shuf_vehicle_vectors = encoders[i][3].predict(vecs_shuffled_all[3])\n",
    "\n",
    "    redu_all = np.hstack([redu_topic_vectors, redu_event_vectors, redu_ground_vectors, redu_vehicle_vectors])\n",
    "    redu_shuf_all = np.hstack([redu_shuf_topic_vectors, redu_shuf_event_vectors, redu_shuf_ground_vectors, redu_shuf_vehicle_vectors])\n",
    "\n",
    "    # calculate some metric for GMM of n components\n",
    "    for j, n_comp in enumerate(ns):\n",
    "        gm = GaussianMixture(n_components=n_comp, covariance_type='diag', n_init=4, init_params='random', tol=1e-3,\n",
    "                            warm_start=True)\n",
    "\n",
    "        gmf = gm.fit(redu_all)\n",
    "\n",
    "        scores[i, j] = gmf.aic(redu_all) - gmf.aic(redu_shuf_all)\n",
    "\n",
    "    print(f'Search over {dim} finished')"
   ]
  },
  {
   "cell_type": "code",
   "execution_count": 178,
   "metadata": {},
   "outputs": [
    {
     "data": {
      "text/plain": [
       "(331, 64, -455034.52453004726)"
      ]
     },
     "execution_count": 178,
     "metadata": {},
     "output_type": "execute_result"
    }
   ],
   "source": [
    "top_dim, top_comp = np.unravel_index(np.argmin(scores), scores.shape)\n",
    "\n",
    "ns[top_comp], dims[top_dim], scores[top_dim, top_comp]"
   ]
  },
  {
   "cell_type": "code",
   "execution_count": 179,
   "metadata": {},
   "outputs": [
    {
     "name": "stdout",
     "output_type": "stream",
     "text": [
      "64 -455,034.52453004726\n"
     ]
    },
    {
     "data": {
      "image/png": "[encoded data removed]",
      "text/plain": [
       "<Figure size 576x288 with 2 Axes>"
      ]
     },
     "metadata": {},
     "output_type": "display_data"
    }
   ],
   "source": [
    "plt.subplots(figsize=(8,4))\n",
    "g = sns.heatmap(scores[:, :], cmap='gnuplot', vmin=np.min(scores), vmax=np.max(scores))\n",
    "g.set_yticklabels(dims)\n",
    "g.set_xticklabels(ns, rotation=30, ha='right');\n",
    "\n",
    "y, x = np.unravel_index(np.argmin(scores[:, :]), scores[:, :].shape)\n",
    "print(f'{dims[y]} {scores[y, x]:,}')\n",
    "\n",
    "# plt.text(x+0.5, y+0.3, f'{ns[x]} - {decomp_levels[y]}', ha='center', color='w');\n",
    "# plt.scatter(x+0.5, y+0.5, s=50, c='w')"
   ]
  },
  {
   "cell_type": "markdown",
   "metadata": {},
   "source": [
    "# Kernel PCA"
   ]
  },
  {
   "cell_type": "code",
   "execution_count": 82,
   "metadata": {},
   "outputs": [],
   "source": [
    "def sum_squares(x):\n",
    "    \n",
    "    return np.sum(np.power(x - np.mean(x), 2))\n",
    "    "
   ]
  },
  {
   "cell_type": "code",
   "execution_count": 103,
   "metadata": {},
   "outputs": [
    {
     "name": "stdout",
     "output_type": "stream",
     "text": [
      "Search over 10 finished\n",
      "Search over 15 finished\n",
      "Search over 20 finished\n",
      "Search over 25 finished\n",
      "Search over 50 finished\n",
      "Search over 75 finished\n"
     ]
    }
   ],
   "source": [
    "vecs_array = np.array([topic_vectors, event_vectors, ground_vectors, vehicle_vectors])\n",
    "\n",
    "dims = [10, 15, 20, 25, 50, 75]\n",
    "scores = np.zeros((len(dims), len(ns)))\n",
    "metric = np.zeros((len(dims), len(ns)))\n",
    "    \n",
    "for i, dim in enumerate(dims):\n",
    "    \n",
    "    decomp_topic = KernelPCA(n_components=dim, kernel='rbf', gamma=0.3)\n",
    "    decomp_event = KernelPCA(n_components=dim, kernel='rbf', gamma=0.3)\n",
    "    decomp_ground = KernelPCA(n_components=dim, kernel='rbf', gamma=0.3)\n",
    "    decomp_vehicle = KernelPCA(n_components=dim, kernel='rbf', gamma=0.3)\n",
    "\n",
    "    redu_topic_vectors = decomp_topic.fit_transform(vecs_array[0])\n",
    "    redu_event_vectors = decomp_event.fit_transform(vecs_array[1])\n",
    "    redu_ground_vectors = decomp_ground.fit_transform(vecs_array[2])\n",
    "    redu_vehicle_vectors = decomp_vehicle.fit_transform(vecs_array[3])\n",
    "\n",
    "    redu_shuf_topic_vectors = decomp_topic.fit_transform(vecs_shuffled_all[0])\n",
    "    redu_shuf_event_vectors = decomp_event.fit_transform(vecs_shuffled_all[1])\n",
    "    redu_shuf_ground_vectors = decomp_ground.fit_transform(vecs_shuffled_all[2])\n",
    "    redu_shuf_vehicle_vectors = decomp_vehicle.fit_transform(vecs_shuffled_all[3])\n",
    "\n",
    "    redu_all = np.hstack([redu_topic_vectors, redu_event_vectors, redu_ground_vectors, redu_vehicle_vectors])\n",
    "    redu_shuf_all = np.hstack([redu_shuf_topic_vectors, redu_shuf_event_vectors, redu_shuf_ground_vectors, redu_shuf_vehicle_vectors])\n",
    "\n",
    "    # calculate some metric for GMM of n components\n",
    "    for j, n_comp in enumerate(ns):\n",
    "        gm = GaussianMixture(n_components=n_comp, covariance_type='diag', n_init=4, init_params='random', tol=1e-3,\n",
    "                            warm_start=True)\n",
    "\n",
    "        gmf = gm.fit(redu_all)\n",
    "\n",
    "        scores[i, j] = gmf.aic(redu_all) - gmf.aic(redu_shuf_all)\n",
    "        \n",
    "        pred = gm.predict(redu_all)\n",
    "        _, count = np.unique(pred, return_counts=True)\n",
    "        metric[i, j] = entropy(count)\n",
    "        \n",
    "\n",
    "    print(f'Search over {dim} finished')"
   ]
  },
  {
   "cell_type": "code",
   "execution_count": 100,
   "metadata": {},
   "outputs": [],
   "source": [
    "from scipy.stats import entropy"
   ]
  },
  {
   "cell_type": "code",
   "execution_count": 95,
   "metadata": {},
   "outputs": [
    {
     "data": {
      "text/plain": [
       "(234, 10, -56139896.078501575)"
      ]
     },
     "execution_count": 95,
     "metadata": {},
     "output_type": "execute_result"
    }
   ],
   "source": [
    "top_dim, top_comp = np.unravel_index(np.argmin(scores), scores.shape)\n",
    "\n",
    "ns[top_comp], dims[top_dim], scores[top_dim, top_comp]"
   ]
  },
  {
   "cell_type": "code",
   "execution_count": 108,
   "metadata": {},
   "outputs": [
    {
     "name": "stdout",
     "output_type": "stream",
     "text": [
      "50 331 -45,082,071\n"
     ]
    },
    {
     "data": {
      "image/png": "[encoded data removed]",
      "text/plain": [
       "<Figure size 720x288 with 2 Axes>"
      ]
     },
     "metadata": {},
     "output_type": "display_data"
    }
   ],
   "source": [
    "plt.subplots(figsize=(10,4))\n",
    "cb = scores / metric\n",
    "g = sns.heatmap(cb, cmap='gnuplot', vmin=np.min(cb), vmax=np.max(cb))\n",
    "g.set_yticklabels(dims)\n",
    "g.set_xticklabels(ns, rotation=30, ha='right')\n",
    "plt.xlabel('Components')\n",
    "plt.ylabel('Dimensions')\n",
    "\n",
    "y, x = np.unravel_index(np.argmin(cb[:, :]), cb[:, :].shape)\n",
    "print(f'{dims[y]} {ns[x]} {int(cb[y, x]):,}')"
   ]
  },
  {
   "cell_type": "code",
   "execution_count": 92,
   "metadata": {},
   "outputs": [
    {
     "data": {
      "text/plain": [
       "(-2000000.0, -20000.0, -20000.0, -200.0)"
      ]
     },
     "execution_count": 92,
     "metadata": {},
     "output_type": "execute_result"
    }
   ],
   "source": [
    "-6000000 / 3, -6000000 / 300, -60000 / 3, -60000 / 300"
   ]
  },
  {
   "cell_type": "code",
   "execution_count": 105,
   "metadata": {},
   "outputs": [
    {
     "name": "stdout",
     "output_type": "stream",
     "text": [
      "1.1350706911697162\n",
      "0.1896831364389792\n",
      "1.9443924138123927\n",
      "1.7900414677289174\n"
     ]
    }
   ],
   "source": [
    "print(entropy(np.array([1,1,1,1,1,1,1,1,1,20,50]) / 79)) # bad, all in one component\n",
    "print(entropy(np.array([1,1,50])/ 52)) # all in one comp\n",
    "print(entropy(np.array([1,2,4,8,16,20,26,30,40,50]) / 197)) # more spread\n",
    "print(entropy(np.array([30,30,28,30,30,34]) / 182)) # even"
   ]
  },
  {
   "cell_type": "code",
   "execution_count": 104,
   "metadata": {},
   "outputs": [
    {
     "name": "stdout",
     "output_type": "stream",
     "text": [
      "20 2\n"
     ]
    },
    {
     "data": {
      "image/png": "[encoded data removed]",
      "text/plain": [
       "<Figure size 720x288 with 2 Axes>"
      ]
     },
     "metadata": {},
     "output_type": "display_data"
    }
   ],
   "source": [
    "plt.subplots(figsize=(10,4))\n",
    "metric = np.sqrt(metric)\n",
    "g = sns.heatmap(metric[:, :], cmap='gnuplot', vmin=np.min(metric), vmax=np.max(metric))\n",
    "g.set_yticklabels(dims)\n",
    "g.set_xticklabels(ns, rotation=30, ha='right')\n",
    "plt.xlabel('Components')\n",
    "plt.ylabel('Dimensions')\n",
    "\n",
    "y, x = np.unravel_index(np.argmax(metric[:, :]), metric[:, :].shape)\n",
    "print(f'{dims[y]} {int(metric[y, x]):,}')"
   ]
  },
  {
   "cell_type": "code",
   "execution_count": 116,
   "metadata": {},
   "outputs": [
    {
     "name": "stdout",
     "output_type": "stream",
     "text": [
      "(345, 80)\n",
      "CPU times: user 1.69 s, sys: 46.8 ms, total: 1.73 s\n",
      "Wall time: 1.11 s\n"
     ]
    },
    {
     "data": {
      "text/plain": [
       "GaussianMixture(covariance_type='diag', init_params='random', max_iter=100,\n",
       "        means_init=None, n_components=317, n_init=10, precisions_init=None,\n",
       "        random_state=None, reg_covar=1e-06, tol=0.001, verbose=0,\n",
       "        verbose_interval=10, warm_start=False, weights_init=None)"
      ]
     },
     "execution_count": 116,
     "metadata": {},
     "output_type": "execute_result"
    }
   ],
   "source": [
    "# redu_topic_vectors = encoders[0][0].predict(vecs_array[0])\n",
    "# redu_event_vectors = encoders[0][1].predict(vecs_array[1])\n",
    "# redu_ground_vectors = encoders[0][2].predict(vecs_array[2])\n",
    "# redu_vehicle_vectors = encoders[0][3].predict(vecs_array[3])\n",
    "# dims[top_dim]\n",
    "decomp_topic = KernelPCA(n_components=20, kernel='rbf', gamma=0.3)\n",
    "decomp_event = KernelPCA(n_components=20, kernel='rbf', gamma=0.3)\n",
    "decomp_ground = KernelPCA(n_components=20, kernel='rbf', gamma=0.3)\n",
    "decomp_vehicle = KernelPCA(n_components=20, kernel='rbf', gamma=0.3)\n",
    "\n",
    "redu_topic_vectors = decomp_topic.fit_transform(vecs_array[0])\n",
    "redu_event_vectors = decomp_event.fit_transform(vecs_array[1])\n",
    "redu_ground_vectors = decomp_ground.fit_transform(vecs_array[2])\n",
    "redu_vehicle_vectors = decomp_vehicle.fit_transform(vecs_array[3])\n",
    "\n",
    "redu_array = np.array([redu_topic_vectors, redu_event_vectors, redu_ground_vectors, redu_vehicle_vectors])\n",
    "redu_all = np.hstack(redu_array)\n",
    "\n",
    "print(redu_all.shape)\n",
    "\n",
    "n_comps = 317 #ns[top_comp]\n",
    "gm = GaussianMixture(n_components=n_comps, covariance_type='diag', n_init=10, init_params='random', tol=1e-3)\n",
    "\n",
    "%time gmf = gm.fit(redu_all)\n",
    "\n",
    "gm"
   ]
  },
  {
   "cell_type": "markdown",
   "metadata": {},
   "source": [
    "# Generative Model"
   ]
  },
  {
   "cell_type": "code",
   "execution_count": 117,
   "metadata": {},
   "outputs": [],
   "source": [
    "rvs = [multivariate_normal(mean=gmf.means_[i, :], cov=gmf.covariances_[i, :]) for i in range(n_comps)]"
   ]
  },
  {
   "cell_type": "code",
   "execution_count": 150,
   "metadata": {},
   "outputs": [],
   "source": [
    "def cycle_latent_data(input_dict, verbose=0):\n",
    "    global component_ixs\n",
    "\n",
    "    tv = np.random.normal(scale=0.3, size=(1,300))#np.zeros((1, 300))\n",
    "    ev = np.random.normal(scale=0.3, size=(1,300))#np.zeros((1, 300))\n",
    "    gv = np.random.normal(scale=0.3, size=(1,300))#np.zeros((1, 300))\n",
    "    vv = np.random.normal(scale=0.3, size=(1,300))#np.zeros((1, 300))\n",
    "\n",
    "    embedding = embed_tokens(input_dict['tokens'])\n",
    "    \n",
    "    latent = []\n",
    "\n",
    "    if input_dict['topic']:\n",
    "        tv = np.nanmean(embedding[input_dict['topic']], axis=0)\n",
    "    else:\n",
    "        latent.append('topic')\n",
    "\n",
    "    if input_dict['event']:\n",
    "        ev = np.nanmean(embedding[input_dict['event']], axis=0)\n",
    "    else:\n",
    "        latent.append('event')\n",
    "\n",
    "    if input_dict['ground']:\n",
    "        gv = np.nanmean(embedding[input_dict['ground']], axis=0)\n",
    "    else:\n",
    "        latent.append('ground')\n",
    "\n",
    "    if input_dict['vehicle']:\n",
    "        vv = np.nanmean(embedding[input_dict['vehicle']], axis=0)\n",
    "    else:\n",
    "        latent.append('vehicle')   \n",
    "        \n",
    "    out = []\n",
    "        \n",
    "    for mix in permutations(latent):\n",
    "        # original input, reduced\n",
    "#         combined = np.array([encoders[0][0].predict(np.atleast_2d(tv)), \n",
    "#                              encoders[0][1].predict(np.atleast_2d(ev)), \n",
    "#                              encoders[0][2].predict(np.atleast_2d(gv)), \n",
    "#                              encoders[0][3].predict(np.atleast_2d(vv))])\n",
    "        \n",
    "        combined = np.array([decomp_topic.transform(np.atleast_2d(tv)), \n",
    "                             decomp_event.transform(np.atleast_2d(ev)), \n",
    "                             decomp_ground.transform(np.atleast_2d(gv)), \n",
    "                             decomp_vehicle.transform(np.atleast_2d(vv))])\n",
    "        \n",
    "        mixout = []\n",
    "        \n",
    "        if verbose > 0:\n",
    "            print(f'Testing: {mix}')\n",
    "        \n",
    "        for lat in mix:\n",
    "            component_ixs = [0,1,2,3]\n",
    "            ix = component_tags.index(lat)\n",
    "            del component_ixs[ix]\n",
    "            \n",
    "            if verbose > 1:\n",
    "                print(f'Search for most probable: {lat}')\n",
    "            latent, vocab_ix, comp, post_prob = cycle_potential_vocab(lat, combined[component_ixs])\n",
    "                        \n",
    "            mixout.append([ix, vocab_ix, comp, post_prob])\n",
    "            \n",
    "            # update the latent component to the value that maximizes the current probability\n",
    "            combined[ix] = redu_array[ix, vocab_ix]\n",
    "            if verbose > 1:\n",
    "                print(f'Fill latent with \"{get_component(vocab_ix, latent).lower()}\"')\n",
    "            \n",
    "        out.append(mixout)\n",
    "        if verbose > 2:\n",
    "            print(f'MLE: {np.array(mixout)[:, 3].sum():.3f}')\n",
    "        if verbose > 0:\n",
    "            print()\n",
    "        \n",
    "    return np.array(out)\n",
    "\n",
    "def cycle_potential_vocab(latent_component, remaining_components):\n",
    "    '''\n",
    "    Given an unknown vector, but three known vectors, iterate over all vocabularly possibilities to\n",
    "    maximize the likelihood.\n",
    "    \n",
    "    i.e. choose the best vocab for the missing data\n",
    "    '''\n",
    "    if latent_component is 'topic':\n",
    "        posteriors = np.array([choose_best_mixture(np.atleast_2d(vec), \n",
    "                               remaining_components[0], \n",
    "                               remaining_components[1], \n",
    "                               remaining_components[2]) \n",
    "                               for vec in redu_topic_vectors])\n",
    "\n",
    "    \n",
    "    elif latent_component is 'event':\n",
    "        posteriors = np.array([choose_best_mixture(remaining_components[0], \n",
    "                               np.atleast_2d(vec), \n",
    "                               remaining_components[1], \n",
    "                               remaining_components[2]) \n",
    "                               for vec in redu_event_vectors])\n",
    "        \n",
    "    elif latent_component is 'ground':\n",
    "        posteriors = np.array([choose_best_mixture(remaining_components[0], \n",
    "                               remaining_components[1], \n",
    "                               np.atleast_2d(vec), \n",
    "                               remaining_components[2]) \n",
    "                               for vec in redu_ground_vectors])\n",
    "\n",
    "    elif latent_component is 'vehicle':\n",
    "        posteriors = np.array([choose_best_mixture(remaining_components[0], \n",
    "                               remaining_components[1], \n",
    "                               remaining_components[2], \n",
    "                               np.atleast_2d(vec)) \n",
    "                               for vec in redu_vehicle_vectors])\n",
    "\n",
    "    m = np.argmax(posteriors[:, 1])\n",
    "    return latent_component, m, posteriors[m, 0], posteriors[m, 1]\n",
    "    \n",
    "def choose_best_mixture(topic, event, ground, vehicle):\n",
    "    '''\n",
    "    Given four vector components, return the MLE of which Gaussian component the vectors should\n",
    "    belong to.\n",
    "    \n",
    "    i.e. choose the best model for and probability of the given data\n",
    "    '''\n",
    "    redu_all = np.hstack([topic, event, ground, vehicle])\n",
    "            \n",
    "    posteriors = [rvs[gmm_comp].logpdf(redu_all) for gmm_comp in range(n_comps)]\n",
    "                        \n",
    "    return (np.argmax(posteriors), np.max(posteriors))"
   ]
  },
  {
   "cell_type": "code",
   "execution_count": 148,
   "metadata": {},
   "outputs": [],
   "source": [
    "def piece_fit(fit):\n",
    "    complete = {}\n",
    "    component_ixs = [0,1,2,3]\n",
    "    for comp_ix in component_ixs:\n",
    "        tag = component_tags[comp_ix]\n",
    "\n",
    "        if comp_ix in fit[:, 0].astype(int):\n",
    "            w = np.where(fit[:, 0].astype(int) == comp_ix)[0]\n",
    "            text = get_component(int(fit[w, 1]), tag)\n",
    "            complete[tag] = text\n",
    "        else:\n",
    "            complete[tag] = \" \".join(inp[\"tokens\"][inp[tag]])\n",
    "\n",
    "    return complete\n",
    "\n",
    "def format_simile(components):\n",
    "    \n",
    "    t = components['topic']\n",
    "    e = components['event']\n",
    "    g = components['ground']\n",
    "    v = components['vehicle']\n",
    "    \n",
    "    if g and t and e and v:\n",
    "        return f'{t} {e} as {g} as {v}'.capitalize()\n",
    "    elif not g and t and e and v:\n",
    "        return f'{t} {e} like {v}'.capitalize()\n",
    "    elif not t and g and not e and v:\n",
    "        return f'{g} like {v}'.capitalize()\n",
    "    elif not e and t and g and v:\n",
    "        return f'{t} as {g} as {v}'.capitalize()\n",
    "    elif not t and e and g and v:\n",
    "        return f'{e} {g} as {v}'.capitalize()\n",
    "    elif not t and not g and e and v:\n",
    "        return f'{e} like {v}'.capitalize()\n",
    "    else:\n",
    "        return components"
   ]
  },
  {
   "cell_type": "code",
   "execution_count": 152,
   "metadata": {
    "scrolled": true
   },
   "outputs": [
    {
     "name": "stdout",
     "output_type": "stream",
     "text": [
      "Testing: ('topic', 'vehicle')\n",
      "Search for most probable: topic\n",
      "Fill latent with \"her humor\"\n",
      "Search for most probable: vehicle\n",
      "Fill latent with \"a lampless sea\"\n",
      "MLE: 188.668\n",
      "\n",
      "Testing: ('vehicle', 'topic')\n",
      "Search for most probable: vehicle\n",
      "Fill latent with \"a sea\"\n",
      "Search for most probable: topic\n",
      "Fill latent with \"her humor\"\n",
      "MLE: 212.065\n",
      "\n"
     ]
    },
    {
     "data": {
      "text/plain": [
       "'Her humor is as smart as a sea'"
      ]
     },
     "execution_count": 152,
     "metadata": {},
     "output_type": "execute_result"
    }
   ],
   "source": [
    "inp = {'original': 'is as smart as', 'topic': None, 'ground': [2], 'event': [0], 'vehicle': None}\n",
    "inp['tokens'] = np.array([tk.text for tk in nlp(inp['original'])])\n",
    "\n",
    "z = cycle_latent_data(inp, verbose=3)\n",
    "\n",
    "best_fit = np.argmax(np.sum(z[:, :, 3], axis=1))\n",
    "\n",
    "format_simile(piece_fit(z[best_fit]))"
   ]
  },
  {
   "cell_type": "code",
   "execution_count": 142,
   "metadata": {},
   "outputs": [
    {
     "data": {
      "text/plain": [
       "array([[  3.        ,  79.        , 234.        , 479.10533966]])"
      ]
     },
     "execution_count": 142,
     "metadata": {},
     "output_type": "execute_result"
    }
   ],
   "source": [
    "z[best_fit, :, :]"
   ]
  },
  {
   "cell_type": "code",
   "execution_count": 140,
   "metadata": {},
   "outputs": [
    {
     "data": {
      "text/html": [
       "<div>\n",
       "<style scoped>\n",
       "    .dataframe tbody tr th:only-of-type {\n",
       "        vertical-align: middle;\n",
       "    }\n",
       "\n",
       "    .dataframe tbody tr th {\n",
       "        vertical-align: top;\n",
       "    }\n",
       "\n",
       "    .dataframe thead th {\n",
       "        text-align: right;\n",
       "    }\n",
       "</style>\n",
       "<table border=\"1\" class=\"dataframe\">\n",
       "  <thead>\n",
       "    <tr style=\"text-align: right;\">\n",
       "      <th></th>\n",
       "      <th>event</th>\n",
       "      <th>ground</th>\n",
       "      <th>original</th>\n",
       "      <th>topic</th>\n",
       "      <th>vehicle</th>\n",
       "      <th>nlp</th>\n",
       "    </tr>\n",
       "  </thead>\n",
       "  <tbody>\n",
       "    <tr>\n",
       "      <th>65</th>\n",
       "      <td>[]</td>\n",
       "      <td>[1]</td>\n",
       "      <td>As black as coal</td>\n",
       "      <td>[]</td>\n",
       "      <td>[3]</td>\n",
       "      <td>(As, black, as, coal)</td>\n",
       "    </tr>\n",
       "    <tr>\n",
       "      <th>66</th>\n",
       "      <td>[]</td>\n",
       "      <td>[1]</td>\n",
       "      <td>As hot as hell</td>\n",
       "      <td>[]</td>\n",
       "      <td>[3]</td>\n",
       "      <td>(As, hot, as, hell)</td>\n",
       "    </tr>\n",
       "    <tr>\n",
       "      <th>67</th>\n",
       "      <td>[]</td>\n",
       "      <td>[1]</td>\n",
       "      <td>As cool as a cucumber</td>\n",
       "      <td>[]</td>\n",
       "      <td>[3, 4]</td>\n",
       "      <td>(As, cool, as, a, cucumber)</td>\n",
       "    </tr>\n",
       "    <tr>\n",
       "      <th>68</th>\n",
       "      <td>[]</td>\n",
       "      <td>[1]</td>\n",
       "      <td>As tough as nails</td>\n",
       "      <td>[]</td>\n",
       "      <td>[3]</td>\n",
       "      <td>(As, tough, as, nails)</td>\n",
       "    </tr>\n",
       "    <tr>\n",
       "      <th>69</th>\n",
       "      <td>[]</td>\n",
       "      <td>[1]</td>\n",
       "      <td>As blind as a bat</td>\n",
       "      <td>[]</td>\n",
       "      <td>[3, 4]</td>\n",
       "      <td>(As, blind, as, a, bat)</td>\n",
       "    </tr>\n",
       "    <tr>\n",
       "      <th>70</th>\n",
       "      <td>[]</td>\n",
       "      <td>[1]</td>\n",
       "      <td>As light as a feather</td>\n",
       "      <td>[]</td>\n",
       "      <td>[3, 4]</td>\n",
       "      <td>(As, light, as, a, feather)</td>\n",
       "    </tr>\n",
       "    <tr>\n",
       "      <th>71</th>\n",
       "      <td>[]</td>\n",
       "      <td>[1]</td>\n",
       "      <td>As bright as a button</td>\n",
       "      <td>[]</td>\n",
       "      <td>[3, 4]</td>\n",
       "      <td>(As, bright, as, a, button)</td>\n",
       "    </tr>\n",
       "    <tr>\n",
       "      <th>72</th>\n",
       "      <td>[]</td>\n",
       "      <td>[1]</td>\n",
       "      <td>As common as dirt</td>\n",
       "      <td>[]</td>\n",
       "      <td>[3]</td>\n",
       "      <td>(As, common, as, dirt)</td>\n",
       "    </tr>\n",
       "    <tr>\n",
       "      <th>73</th>\n",
       "      <td>[]</td>\n",
       "      <td>[1]</td>\n",
       "      <td>As bold as brass</td>\n",
       "      <td>[]</td>\n",
       "      <td>[3]</td>\n",
       "      <td>(As, bold, as, brass)</td>\n",
       "    </tr>\n",
       "    <tr>\n",
       "      <th>74</th>\n",
       "      <td>[]</td>\n",
       "      <td>[1]</td>\n",
       "      <td>As sweet as sugar</td>\n",
       "      <td>[]</td>\n",
       "      <td>[3]</td>\n",
       "      <td>(As, sweet, as, sugar)</td>\n",
       "    </tr>\n",
       "    <tr>\n",
       "      <th>75</th>\n",
       "      <td>[]</td>\n",
       "      <td>[1]</td>\n",
       "      <td>As happy as a clam</td>\n",
       "      <td>[]</td>\n",
       "      <td>[3, 4]</td>\n",
       "      <td>(As, happy, as, a, clam)</td>\n",
       "    </tr>\n",
       "    <tr>\n",
       "      <th>76</th>\n",
       "      <td>[]</td>\n",
       "      <td>[1]</td>\n",
       "      <td>As hard as nails</td>\n",
       "      <td>[]</td>\n",
       "      <td>[3]</td>\n",
       "      <td>(As, hard, as, nails)</td>\n",
       "    </tr>\n",
       "    <tr>\n",
       "      <th>77</th>\n",
       "      <td>[1]</td>\n",
       "      <td>[3]</td>\n",
       "      <td>You were as brave as a lion</td>\n",
       "      <td>[0]</td>\n",
       "      <td>[5, 6]</td>\n",
       "      <td>(You, were, as, brave, as, a, lion)</td>\n",
       "    </tr>\n",
       "    <tr>\n",
       "      <th>78</th>\n",
       "      <td>[1]</td>\n",
       "      <td>[3]</td>\n",
       "      <td>He is as strong as an ox</td>\n",
       "      <td>[0]</td>\n",
       "      <td>[5, 6]</td>\n",
       "      <td>(He, is, as, strong, as, an, ox)</td>\n",
       "    </tr>\n",
       "    <tr>\n",
       "      <th>79</th>\n",
       "      <td>[2]</td>\n",
       "      <td>[4]</td>\n",
       "      <td>That guy is as nutty as a fruitcake</td>\n",
       "      <td>[0, 1]</td>\n",
       "      <td>[6, 7]</td>\n",
       "      <td>(That, guy, is, as, nutty, as, a, fruitcake)</td>\n",
       "    </tr>\n",
       "    <tr>\n",
       "      <th>80</th>\n",
       "      <td>[1]</td>\n",
       "      <td>[3]</td>\n",
       "      <td>That is as easy as shooting fish in a barrel</td>\n",
       "      <td>[0]</td>\n",
       "      <td>[5, 6, 7, 8, 9]</td>\n",
       "      <td>(That, is, as, easy, as, shooting, fish, in, a...</td>\n",
       "    </tr>\n",
       "    <tr>\n",
       "      <th>81</th>\n",
       "      <td>[4]</td>\n",
       "      <td>[6]</td>\n",
       "      <td>My love for you is as deep as the ocean</td>\n",
       "      <td>[0, 1]</td>\n",
       "      <td>[8, 9]</td>\n",
       "      <td>(My, love, for, you, is, as, deep, as, the, oc...</td>\n",
       "    </tr>\n",
       "    <tr>\n",
       "      <th>82</th>\n",
       "      <td>[1]</td>\n",
       "      <td>[]</td>\n",
       "      <td>I slept like a log</td>\n",
       "      <td>[0]</td>\n",
       "      <td>[3, 4]</td>\n",
       "      <td>(I, slept, like, a, log)</td>\n",
       "    </tr>\n",
       "    <tr>\n",
       "      <th>83</th>\n",
       "      <td>[1]</td>\n",
       "      <td>[3]</td>\n",
       "      <td>They are as different as night and day</td>\n",
       "      <td>[0]</td>\n",
       "      <td>[5, 6, 7]</td>\n",
       "      <td>(They, are, as, different, as, night, and, day)</td>\n",
       "    </tr>\n",
       "    <tr>\n",
       "      <th>84</th>\n",
       "      <td>[1]</td>\n",
       "      <td>[3]</td>\n",
       "      <td>He is as funny as a barrel of monkeys</td>\n",
       "      <td>[0]</td>\n",
       "      <td>[5, 6, 7, 8]</td>\n",
       "      <td>(He, is, as, funny, as, a, barrel, of, monkeys)</td>\n",
       "    </tr>\n",
       "    <tr>\n",
       "      <th>85</th>\n",
       "      <td>[2]</td>\n",
       "      <td>[4]</td>\n",
       "      <td>My throat is as dry as a bone</td>\n",
       "      <td>[0, 1]</td>\n",
       "      <td>[6, 7]</td>\n",
       "      <td>(My, throat, is, as, dry, as, a, bone)</td>\n",
       "    </tr>\n",
       "    <tr>\n",
       "      <th>86</th>\n",
       "      <td>[1, 2]</td>\n",
       "      <td>[]</td>\n",
       "      <td>I stand out like a sore thumb</td>\n",
       "      <td>[0]</td>\n",
       "      <td>[4, 5, 6]</td>\n",
       "      <td>(I, stand, out, like, a, sore, thumb)</td>\n",
       "    </tr>\n",
       "    <tr>\n",
       "      <th>87</th>\n",
       "      <td>[1]</td>\n",
       "      <td>[]</td>\n",
       "      <td>They fought like cats and dogs</td>\n",
       "      <td>[0]</td>\n",
       "      <td>[3, 4, 5]</td>\n",
       "      <td>(They, fought, like, cats, and, dogs)</td>\n",
       "    </tr>\n",
       "    <tr>\n",
       "      <th>88</th>\n",
       "      <td>[3]</td>\n",
       "      <td>[]</td>\n",
       "      <td>Watching the show was like watching grass grow</td>\n",
       "      <td>[0, 1, 2]</td>\n",
       "      <td>[5, 6, 7]</td>\n",
       "      <td>(Watching, the, show, was, like, watching, gra...</td>\n",
       "    </tr>\n",
       "    <tr>\n",
       "      <th>89</th>\n",
       "      <td>[2]</td>\n",
       "      <td>[4]</td>\n",
       "      <td>This house is as clean as a whistle</td>\n",
       "      <td>[0, 1]</td>\n",
       "      <td>[6, 7]</td>\n",
       "      <td>(This, house, is, as, clean, as, a, whistle)</td>\n",
       "    </tr>\n",
       "    <tr>\n",
       "      <th>90</th>\n",
       "      <td>[2]</td>\n",
       "      <td>[]</td>\n",
       "      <td>The dress fits like a glove</td>\n",
       "      <td>[0, 1]</td>\n",
       "      <td>[4, 5]</td>\n",
       "      <td>(The, dress, fits, like, a, glove)</td>\n",
       "    </tr>\n",
       "    <tr>\n",
       "      <th>91</th>\n",
       "      <td>[2, 3]</td>\n",
       "      <td>[]</td>\n",
       "      <td>My mind swayed idly like a water-lily in a lake</td>\n",
       "      <td>[0, 1]</td>\n",
       "      <td>[5, 6, 8, 9, 10, 11]</td>\n",
       "      <td>(My, mind, swayed, idly, like, a, water, -, li...</td>\n",
       "    </tr>\n",
       "    <tr>\n",
       "      <th>92</th>\n",
       "      <td>[]</td>\n",
       "      <td>[]</td>\n",
       "      <td>With words like honey melting from the comb</td>\n",
       "      <td>[1]</td>\n",
       "      <td>[3, 4, 5, 6, 7]</td>\n",
       "      <td>(With, words, like, honey, melting, from, the,...</td>\n",
       "    </tr>\n",
       "    <tr>\n",
       "      <th>93</th>\n",
       "      <td>[2]</td>\n",
       "      <td>[]</td>\n",
       "      <td>The poppy burned like a crimson ember</td>\n",
       "      <td>[0, 1]</td>\n",
       "      <td>[4, 5, 6]</td>\n",
       "      <td>(The, poppy, burned, like, a, crimson, ember)</td>\n",
       "    </tr>\n",
       "    <tr>\n",
       "      <th>94</th>\n",
       "      <td>[]</td>\n",
       "      <td>[]</td>\n",
       "      <td>My love's like the steadfast sun</td>\n",
       "      <td>[0, 1]</td>\n",
       "      <td>[4, 5, 6]</td>\n",
       "      <td>(My, love, 's, like, the, steadfast, sun)</td>\n",
       "    </tr>\n",
       "    <tr>\n",
       "      <th>95</th>\n",
       "      <td>[0]</td>\n",
       "      <td>[]</td>\n",
       "      <td>Ran like a young fawn</td>\n",
       "      <td>[]</td>\n",
       "      <td>[2, 3, 4]</td>\n",
       "      <td>(Ran, like, a, young, fawn)</td>\n",
       "    </tr>\n",
       "    <tr>\n",
       "      <th>96</th>\n",
       "      <td>[1, 2]</td>\n",
       "      <td>[]</td>\n",
       "      <td>He snatched furiously at breath like a tiger s...</td>\n",
       "      <td>[0]</td>\n",
       "      <td>[6, 7, 8, 9, 10]</td>\n",
       "      <td>(He, snatched, furiously, at, breath, like, a,...</td>\n",
       "    </tr>\n",
       "    <tr>\n",
       "      <th>97</th>\n",
       "      <td>[1, 2, 3]</td>\n",
       "      <td>[]</td>\n",
       "      <td>Beauty maddens the soul like wine</td>\n",
       "      <td>[0]</td>\n",
       "      <td>[5]</td>\n",
       "      <td>(Beauty, maddens, the, soul, like, wine)</td>\n",
       "    </tr>\n",
       "    <tr>\n",
       "      <th>98</th>\n",
       "      <td>[]</td>\n",
       "      <td>[4]</td>\n",
       "      <td>And here were forests ancient as the hills</td>\n",
       "      <td>[3]</td>\n",
       "      <td>[6, 7]</td>\n",
       "      <td>(And, here, were, forests, ancient, as, the, h...</td>\n",
       "    </tr>\n",
       "    <tr>\n",
       "      <th>99</th>\n",
       "      <td>[3, 4]</td>\n",
       "      <td>[]</td>\n",
       "      <td>The excitement had spread through the whole ho...</td>\n",
       "      <td>[0, 1]</td>\n",
       "      <td>[10, 11, 12, 13, 14]</td>\n",
       "      <td>(The, excitement, had, spread, through, the, w...</td>\n",
       "    </tr>\n",
       "  </tbody>\n",
       "</table>\n",
       "</div>"
      ],
      "text/plain": [
       "        event ground                                           original  \\\n",
       "65         []    [1]                                   As black as coal   \n",
       "66         []    [1]                                     As hot as hell   \n",
       "67         []    [1]                              As cool as a cucumber   \n",
       "68         []    [1]                                  As tough as nails   \n",
       "69         []    [1]                                  As blind as a bat   \n",
       "70         []    [1]                              As light as a feather   \n",
       "71         []    [1]                              As bright as a button   \n",
       "72         []    [1]                                  As common as dirt   \n",
       "73         []    [1]                                   As bold as brass   \n",
       "74         []    [1]                                  As sweet as sugar   \n",
       "75         []    [1]                                 As happy as a clam   \n",
       "76         []    [1]                                   As hard as nails   \n",
       "77        [1]    [3]                        You were as brave as a lion   \n",
       "78        [1]    [3]                           He is as strong as an ox   \n",
       "79        [2]    [4]                That guy is as nutty as a fruitcake   \n",
       "80        [1]    [3]       That is as easy as shooting fish in a barrel   \n",
       "81        [4]    [6]            My love for you is as deep as the ocean   \n",
       "82        [1]     []                                 I slept like a log   \n",
       "83        [1]    [3]             They are as different as night and day   \n",
       "84        [1]    [3]              He is as funny as a barrel of monkeys   \n",
       "85        [2]    [4]                      My throat is as dry as a bone   \n",
       "86     [1, 2]     []                      I stand out like a sore thumb   \n",
       "87        [1]     []                     They fought like cats and dogs   \n",
       "88        [3]     []     Watching the show was like watching grass grow   \n",
       "89        [2]    [4]                This house is as clean as a whistle   \n",
       "90        [2]     []                        The dress fits like a glove   \n",
       "91     [2, 3]     []    My mind swayed idly like a water-lily in a lake   \n",
       "92         []     []        With words like honey melting from the comb   \n",
       "93        [2]     []              The poppy burned like a crimson ember   \n",
       "94         []     []                   My love's like the steadfast sun   \n",
       "95        [0]     []                              Ran like a young fawn   \n",
       "96     [1, 2]     []  He snatched furiously at breath like a tiger s...   \n",
       "97  [1, 2, 3]     []                  Beauty maddens the soul like wine   \n",
       "98         []    [4]         And here were forests ancient as the hills   \n",
       "99     [3, 4]     []  The excitement had spread through the whole ho...   \n",
       "\n",
       "        topic               vehicle  \\\n",
       "65         []                   [3]   \n",
       "66         []                   [3]   \n",
       "67         []                [3, 4]   \n",
       "68         []                   [3]   \n",
       "69         []                [3, 4]   \n",
       "70         []                [3, 4]   \n",
       "71         []                [3, 4]   \n",
       "72         []                   [3]   \n",
       "73         []                   [3]   \n",
       "74         []                   [3]   \n",
       "75         []                [3, 4]   \n",
       "76         []                   [3]   \n",
       "77        [0]                [5, 6]   \n",
       "78        [0]                [5, 6]   \n",
       "79     [0, 1]                [6, 7]   \n",
       "80        [0]       [5, 6, 7, 8, 9]   \n",
       "81     [0, 1]                [8, 9]   \n",
       "82        [0]                [3, 4]   \n",
       "83        [0]             [5, 6, 7]   \n",
       "84        [0]          [5, 6, 7, 8]   \n",
       "85     [0, 1]                [6, 7]   \n",
       "86        [0]             [4, 5, 6]   \n",
       "87        [0]             [3, 4, 5]   \n",
       "88  [0, 1, 2]             [5, 6, 7]   \n",
       "89     [0, 1]                [6, 7]   \n",
       "90     [0, 1]                [4, 5]   \n",
       "91     [0, 1]  [5, 6, 8, 9, 10, 11]   \n",
       "92        [1]       [3, 4, 5, 6, 7]   \n",
       "93     [0, 1]             [4, 5, 6]   \n",
       "94     [0, 1]             [4, 5, 6]   \n",
       "95         []             [2, 3, 4]   \n",
       "96        [0]      [6, 7, 8, 9, 10]   \n",
       "97        [0]                   [5]   \n",
       "98        [3]                [6, 7]   \n",
       "99     [0, 1]  [10, 11, 12, 13, 14]   \n",
       "\n",
       "                                                  nlp  \n",
       "65                              (As, black, as, coal)  \n",
       "66                                (As, hot, as, hell)  \n",
       "67                        (As, cool, as, a, cucumber)  \n",
       "68                             (As, tough, as, nails)  \n",
       "69                            (As, blind, as, a, bat)  \n",
       "70                        (As, light, as, a, feather)  \n",
       "71                        (As, bright, as, a, button)  \n",
       "72                             (As, common, as, dirt)  \n",
       "73                              (As, bold, as, brass)  \n",
       "74                             (As, sweet, as, sugar)  \n",
       "75                           (As, happy, as, a, clam)  \n",
       "76                              (As, hard, as, nails)  \n",
       "77                (You, were, as, brave, as, a, lion)  \n",
       "78                   (He, is, as, strong, as, an, ox)  \n",
       "79       (That, guy, is, as, nutty, as, a, fruitcake)  \n",
       "80  (That, is, as, easy, as, shooting, fish, in, a...  \n",
       "81  (My, love, for, you, is, as, deep, as, the, oc...  \n",
       "82                           (I, slept, like, a, log)  \n",
       "83    (They, are, as, different, as, night, and, day)  \n",
       "84    (He, is, as, funny, as, a, barrel, of, monkeys)  \n",
       "85             (My, throat, is, as, dry, as, a, bone)  \n",
       "86              (I, stand, out, like, a, sore, thumb)  \n",
       "87              (They, fought, like, cats, and, dogs)  \n",
       "88  (Watching, the, show, was, like, watching, gra...  \n",
       "89       (This, house, is, as, clean, as, a, whistle)  \n",
       "90                 (The, dress, fits, like, a, glove)  \n",
       "91  (My, mind, swayed, idly, like, a, water, -, li...  \n",
       "92  (With, words, like, honey, melting, from, the,...  \n",
       "93      (The, poppy, burned, like, a, crimson, ember)  \n",
       "94          (My, love, 's, like, the, steadfast, sun)  \n",
       "95                        (Ran, like, a, young, fawn)  \n",
       "96  (He, snatched, furiously, at, breath, like, a,...  \n",
       "97           (Beauty, maddens, the, soul, like, wine)  \n",
       "98  (And, here, were, forests, ancient, as, the, h...  \n",
       "99  (The, excitement, had, spread, through, the, w...  "
      ]
     },
     "execution_count": 140,
     "metadata": {},
     "output_type": "execute_result"
    }
   ],
   "source": [
    "sentences.iloc[65:100]"
   ]
  },
  {
   "cell_type": "code",
   "execution_count": 120,
   "metadata": {},
   "outputs": [
    {
     "name": "stdout",
     "output_type": "stream",
     "text": [
      "2.5315539738032515\n",
      "4.811307273655414\n"
     ]
    },
    {
     "data": {
      "text/html": [
       "<div>\n",
       "<style scoped>\n",
       "    .dataframe tbody tr th:only-of-type {\n",
       "        vertical-align: middle;\n",
       "    }\n",
       "\n",
       "    .dataframe tbody tr th {\n",
       "        vertical-align: top;\n",
       "    }\n",
       "\n",
       "    .dataframe thead th {\n",
       "        text-align: right;\n",
       "    }\n",
       "</style>\n",
       "<table border=\"1\" class=\"dataframe\">\n",
       "  <thead>\n",
       "    <tr style=\"text-align: right;\">\n",
       "      <th></th>\n",
       "      <th>component</th>\n",
       "      <th>count</th>\n",
       "    </tr>\n",
       "  </thead>\n",
       "  <tbody>\n",
       "    <tr>\n",
       "      <th>7</th>\n",
       "      <td>15</td>\n",
       "      <td>27</td>\n",
       "    </tr>\n",
       "    <tr>\n",
       "      <th>179</th>\n",
       "      <td>307</td>\n",
       "      <td>14</td>\n",
       "    </tr>\n",
       "    <tr>\n",
       "      <th>157</th>\n",
       "      <td>266</td>\n",
       "      <td>13</td>\n",
       "    </tr>\n",
       "    <tr>\n",
       "      <th>16</th>\n",
       "      <td>27</td>\n",
       "      <td>7</td>\n",
       "    </tr>\n",
       "    <tr>\n",
       "      <th>136</th>\n",
       "      <td>230</td>\n",
       "      <td>7</td>\n",
       "    </tr>\n",
       "    <tr>\n",
       "      <th>131</th>\n",
       "      <td>219</td>\n",
       "      <td>6</td>\n",
       "    </tr>\n",
       "    <tr>\n",
       "      <th>132</th>\n",
       "      <td>221</td>\n",
       "      <td>6</td>\n",
       "    </tr>\n",
       "    <tr>\n",
       "      <th>66</th>\n",
       "      <td>103</td>\n",
       "      <td>6</td>\n",
       "    </tr>\n",
       "    <tr>\n",
       "      <th>122</th>\n",
       "      <td>199</td>\n",
       "      <td>6</td>\n",
       "    </tr>\n",
       "    <tr>\n",
       "      <th>127</th>\n",
       "      <td>207</td>\n",
       "      <td>5</td>\n",
       "    </tr>\n",
       "  </tbody>\n",
       "</table>\n",
       "</div>"
      ],
      "text/plain": [
       "     component  count\n",
       "7           15     27\n",
       "179        307     14\n",
       "157        266     13\n",
       "16          27      7\n",
       "136        230      7\n",
       "131        219      6\n",
       "132        221      6\n",
       "66         103      6\n",
       "122        199      6\n",
       "127        207      5"
      ]
     },
     "execution_count": 120,
     "metadata": {},
     "output_type": "execute_result"
    }
   ],
   "source": [
    "p = gmf.predict(redu_all)\n",
    "\n",
    "a, b = np.unique(p, return_counts=True)\n",
    "\n",
    "print(b.std())\n",
    "print(entropy(b))\n",
    "\n",
    "cc = pd.DataFrame({'component': a, 'count': b}).sort_values(ascending=False, by='count')\n",
    "\n",
    "cc.head(10)"
   ]
  },
  {
   "cell_type": "code",
   "execution_count": 143,
   "metadata": {},
   "outputs": [
    {
     "data": {
      "text/html": [
       "<div>\n",
       "<style scoped>\n",
       "    .dataframe tbody tr th:only-of-type {\n",
       "        vertical-align: middle;\n",
       "    }\n",
       "\n",
       "    .dataframe tbody tr th {\n",
       "        vertical-align: top;\n",
       "    }\n",
       "\n",
       "    .dataframe thead th {\n",
       "        text-align: right;\n",
       "    }\n",
       "</style>\n",
       "<table border=\"1\" class=\"dataframe\">\n",
       "  <thead>\n",
       "    <tr style=\"text-align: right;\">\n",
       "      <th></th>\n",
       "      <th>component</th>\n",
       "      <th>count</th>\n",
       "    </tr>\n",
       "  </thead>\n",
       "  <tbody>\n",
       "    <tr>\n",
       "      <th>138</th>\n",
       "      <td>234</td>\n",
       "      <td>1</td>\n",
       "    </tr>\n",
       "  </tbody>\n",
       "</table>\n",
       "</div>"
      ],
      "text/plain": [
       "     component  count\n",
       "138        234      1"
      ]
     },
     "execution_count": 143,
     "metadata": {},
     "output_type": "execute_result"
    }
   ],
   "source": [
    "cc.loc[cc['component'] == 234]"
   ]
  },
  {
   "cell_type": "code",
   "execution_count": 136,
   "metadata": {},
   "outputs": [
    {
     "data": {
      "text/plain": [
       "array(['As bright as a button', 'As bold as brass',\n",
       "       'Impassive as a statue'], dtype=object)"
      ]
     },
     "execution_count": 136,
     "metadata": {},
     "output_type": "execute_result"
    }
   ],
   "source": [
    "sentences.loc[p == 128, 'original'].values"
   ]
  },
  {
   "cell_type": "code",
   "execution_count": null,
   "metadata": {},
   "outputs": [],
   "source": []
  }
 ],
 "metadata": {
  "kernelspec": {
   "display_name": "Python 3",
   "language": "python",
   "name": "python3"
  },
  "language_info": {
   "codemirror_mode": {
    "name": "ipython",
    "version": 3
   },
   "file_extension": ".py",
   "mimetype": "text/x-python",
   "name": "python",
   "nbconvert_exporter": "python",
   "pygments_lexer": "ipython3",
   "version": "3.6.3"
  }
 },
 "nbformat": 4,
 "nbformat_minor": 2
}
