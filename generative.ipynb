{
 "cells": [
  {
   "cell_type": "markdown",
   "metadata": {},
   "source": [
    "# Load Libraries"
   ]
  },
  {
   "cell_type": "code",
   "execution_count": 1,
   "metadata": {},
   "outputs": [],
   "source": [
    "import pandas as pd\n",
    "import numpy as np\n",
    "\n",
    "from itertools import permutations\n",
    "from scipy.stats import multivariate_normal\n",
    "from scipy.spatial.distance import pdist\n",
    "\n",
    "from sklearn.decomposition import KernelPCA\n",
    "from sklearn.mixture import GaussianMixture\n",
    "\n",
    "import seaborn as sns\n",
    "import matplotlib.pyplot as plt\n",
    "\n",
    "from gensim.models.keyedvectors import KeyedVectors\n",
    "import spacy\n",
    "\n",
    "nlp = spacy.load('en_core_web_sm')"
   ]
  },
  {
   "cell_type": "code",
   "execution_count": 2,
   "metadata": {},
   "outputs": [],
   "source": [
    "model = KeyedVectors.load_word2vec_format('/Volumes/microSD/COGS118b/google-news.bin', binary=True)"
   ]
  },
  {
   "cell_type": "markdown",
   "metadata": {},
   "source": [
    "# Simile data\n",
    "\n",
    "Components are manually extracted"
   ]
  },
  {
   "cell_type": "code",
   "execution_count": 3,
   "metadata": {},
   "outputs": [],
   "source": [
    "component_tags = ['topic', 'event', 'ground', 'vehicle']"
   ]
  },
  {
   "cell_type": "code",
   "execution_count": 4,
   "metadata": {},
   "outputs": [
    {
     "name": "stdout",
     "output_type": "stream",
     "text": [
      "CPU times: user 5.99 s, sys: 269 ms, total: 6.26 s\n",
      "Wall time: 3.72 s\n"
     ]
    },
    {
     "data": {
      "text/plain": [
       "345"
      ]
     },
     "execution_count": 4,
     "metadata": {},
     "output_type": "execute_result"
    }
   ],
   "source": [
    "sentences = pd.read_json('similes.json', orient='records')\n",
    "\n",
    "%time sentences['nlp'] = sentences['original'].apply(lambda text: nlp(text))\n",
    "\n",
    "len(sentences)"
   ]
  },
  {
   "cell_type": "code",
   "execution_count": 5,
   "metadata": {},
   "outputs": [],
   "source": [
    "def embed_tokens(tokens):\n",
    "    \n",
    "    # FUTURE: use context dependent embeddings too\n",
    "#     elmo_v = elmo.embed_sentence(tokens)[1]\n",
    "\n",
    "    w2v_v = np.ones((len(tokens), 300)) * np.nan\n",
    "    for i, tk in enumerate(tokens):\n",
    "        try:\n",
    "            w2v_v[i, :] = model[tk]\n",
    "        except:\n",
    "            if tk not in OOV:\n",
    "                OOV.append(tk)\n",
    "    \n",
    "    return w2v_v #np.hstack([elmo_v, w2v_v])"
   ]
  },
  {
   "cell_type": "code",
   "execution_count": 6,
   "metadata": {},
   "outputs": [
    {
     "name": "stdout",
     "output_type": "stream",
     "text": [
      "220 event\n",
      "280 ground\n",
      "332 ground\n"
     ]
    }
   ],
   "source": [
    "# out of vocabulary words - get excluded or filled with zeros (as if there is nothing there)\n",
    "OOV = []\n",
    "\n",
    "topic_vectors =   np.zeros((len(sentences), 300))\n",
    "event_vectors =   np.zeros((len(sentences), 300))\n",
    "ground_vectors =  np.zeros((len(sentences), 300))\n",
    "vehicle_vectors = np.zeros((len(sentences), 300))\n",
    "\n",
    "for ix, s in sentences.iterrows():\n",
    "    \n",
    "    tokens = np.array([tk.text for tk in s['nlp']])\n",
    "    embedding = embed_tokens(tokens)\n",
    "        \n",
    "    for tag, vec in zip(component_tags, [topic_vectors, event_vectors, ground_vectors, vehicle_vectors]):\n",
    "        if s[tag]:\n",
    "            emb = embedding[s[tag], :]\n",
    "            \n",
    "            if np.isnan(emb).all():\n",
    "                print(ix, tag)\n",
    "                mn = np.zeros((300, ))\n",
    "            else:\n",
    "                mn = np.nanmean(emb, axis=0)\n",
    "\n",
    "            vec[ix] = mn"
   ]
  },
  {
   "cell_type": "code",
   "execution_count": 7,
   "metadata": {},
   "outputs": [
    {
     "name": "stdout",
     "output_type": "stream",
     "text": [
      "['a', 'and', 'of', 'to', 'Pillowed', 'overwearied', ',', 'lampless', '-', \"'s\", 'graved', \"'\", 'empurpled', 'hadst', 'dovelike', 'Shrivel', 'rosewhite', 'Beauteous', 'unfallen', 'bleared', 'Shapeless', 'aigrette']\n"
     ]
    }
   ],
   "source": [
    "print(OOV)"
   ]
  },
  {
   "cell_type": "markdown",
   "metadata": {},
   "source": [
    "# Similarity with Latent Component\n",
    "\n",
    "If we remove a component, the overall syntatical expression remains with a predictability that hopefully can be leveraged with a Gaussian Mixture Model. "
   ]
  },
  {
   "cell_type": "code",
   "execution_count": 8,
   "metadata": {},
   "outputs": [],
   "source": [
    "inp = {'original': 'His love burned as passionately as', 'topic': [0,1], 'ground': [4], 'event': [2], 'vehicle': None}\n",
    "\n",
    "tokens = np.array([tk.text for tk in nlp(inp['original'])])\n",
    "\n",
    "example_topic_vector =   np.zeros((1, 300)) #.random.normal(scale=0.5, size=(1, 300))\n",
    "example_event_vector =   np.zeros((1, 300)) #.random.normal(scale=0.5, size=(1, 300))\n",
    "example_ground_vector =  np.zeros((1, 300)) #.random.normal(scale=0.5, size=(1, 300))\n",
    "example_vehicle_vector = np.zeros((1, 300)) #.random.normal(scale=0.5, size=(1, 300))\n",
    "\n",
    "embedding = embed_tokens(tokens)\n",
    "\n",
    "if inp['topic']:\n",
    "    example_topic_vector = embedding[inp['topic']].mean(axis=0)\n",
    "if inp['event']:\n",
    "    example_event_vector = embedding[inp['event']].mean(axis=0)\n",
    "if inp['ground']:\n",
    "    example_ground_vector = embedding[inp['ground']].mean(axis=0)\n",
    "if inp['vehicle']:\n",
    "    example_vehicle_vector = embedding[inp['vehicle']].mean(axis=0)\n"
   ]
  },
  {
   "cell_type": "code",
   "execution_count": 9,
   "metadata": {
    "scrolled": true
   },
   "outputs": [
    {
     "data": {
      "image/png": "[encoded data removed]",
      "text/plain": [
       "<Figure size 432x288 with 2 Axes>"
      ]
     },
     "metadata": {},
     "output_type": "display_data"
    }
   ],
   "source": [
    "yax_labs = ['', '', '', '']\n",
    "xax_labs = ['', '', '', '']\n",
    "ds = np.zeros((4,4))\n",
    "\n",
    "comp = 14\n",
    "\n",
    "norm = [topic_vectors[comp, :], event_vectors[comp, :], ground_vectors[comp, :], vehicle_vectors[comp, :]]\n",
    "example = [example_topic_vector, example_event_vector, example_ground_vector, example_vehicle_vector]\n",
    "labels = ['topic', 'event', 'ground', 'vehicle']\n",
    "\n",
    "for i in range(4):\n",
    "    e = sentences.loc[comp, [labels[i], 'original']].values\n",
    "    phrase1 = np.array([tk.text for tk in nlp(e[1])])[e[0]]\n",
    "    yax_labs[i] = ' '.join(phrase1)\n",
    "    if inp[labels[i]]:\n",
    "        d = 1 - pdist(np.vstack([norm[i], example[i]]), 'cosine')\n",
    "    \n",
    "        ds[i, i] = d\n",
    "        \n",
    "        e = sentences.loc[comp, [labels[i], 'original']].values\n",
    "        \n",
    "        phrase2 = np.array([tk.text for tk in nlp(inp['original'])])[inp[labels[i]]]\n",
    "        xax_labs[i] = ' '.join(phrase2)\n",
    "    elif inp[labels[i]] is None:\n",
    "        xax_labs[i] = 'LAT'\n",
    "\n",
    "g = sns.heatmap(ds, vmin=0, vmax=1, annot=True, cmap='copper')\n",
    "g.set_xticklabels(xax_labs, rotation=30);\n",
    "g.set_yticklabels(yax_labs, rotation=30);\n",
    "plt.title('Simile Component Cosine Similarity')\n",
    "plt.tight_layout()\n",
    "plt.savefig('component_cos_similarity.png', dpi=300)"
   ]
  },
  {
   "cell_type": "markdown",
   "metadata": {},
   "source": [
    "# GMM fitting"
   ]
  },
  {
   "cell_type": "code",
   "execution_count": 34,
   "metadata": {},
   "outputs": [],
   "source": [
    "def get_component(simile_ix, comp):\n",
    "    comp = sentences.loc[simile_ix, comp]\n",
    "    return ' '.join([tk.text for i, tk in enumerate(sentences.loc[simile_ix, 'nlp']) if i in comp])"
   ]
  },
  {
   "cell_type": "markdown",
   "metadata": {},
   "source": [
    "Check the mean/skew/kurtosis visually of the embeddings"
   ]
  },
  {
   "cell_type": "code",
   "execution_count": 13,
   "metadata": {},
   "outputs": [
    {
     "data": {
      "text/plain": [
       "<matplotlib.axes._subplots.AxesSubplot at 0x1b5bb3b9b0>"
      ]
     },
     "execution_count": 13,
     "metadata": {},
     "output_type": "execute_result"
    },
    {
     "data": {
      "image/png": "[encoded data removed]",
      "text/plain": [
       "<Figure size 432x288 with 1 Axes>"
      ]
     },
     "metadata": {},
     "output_type": "display_data"
    }
   ],
   "source": [
    "sns.distplot(topic_vectors.mean(axis=0), color='k')\n",
    "sns.distplot(event_vectors.mean(axis=0), color='g')\n",
    "sns.distplot(ground_vectors.mean(axis=0), color='r')\n",
    "sns.distplot(vehicle_vectors.mean(axis=0), color='b')"
   ]
  },
  {
   "cell_type": "code",
   "execution_count": 14,
   "metadata": {},
   "outputs": [],
   "source": [
    "ns = np.linspace(int(len(sentences)*0.04), int(len(sentences)*0.96), 24).astype(int)"
   ]
  },
  {
   "cell_type": "markdown",
   "metadata": {},
   "source": [
    "\\# of components relies on the complexity of the input vectors"
   ]
  },
  {
   "cell_type": "code",
   "execution_count": 15,
   "metadata": {},
   "outputs": [],
   "source": [
    "import random\n",
    "vecs_shuffled_all = np.array([\n",
    "    random.sample(topic_vectors.tolist(), len(topic_vectors)),\n",
    "    random.sample(event_vectors.tolist(), len(event_vectors)), \n",
    "    random.sample(ground_vectors.tolist(), len(ground_vectors)), \n",
    "    random.sample(vehicle_vectors.tolist(), len(vehicle_vectors))])"
   ]
  },
  {
   "cell_type": "markdown",
   "metadata": {},
   "source": [
    "# Autoencoder"
   ]
  },
  {
   "cell_type": "code",
   "execution_count": 10,
   "metadata": {},
   "outputs": [
    {
     "name": "stderr",
     "output_type": "stream",
     "text": [
      "/Users/alex/anaconda3/lib/python3.6/site-packages/h5py/__init__.py:34: FutureWarning: Conversion of the second argument of issubdtype from `float` to `np.floating` is deprecated. In future, it will be treated as `np.float64 == np.dtype(float).type`.\n",
      "  from ._conv import register_converters as _register_converters\n",
      "Using TensorFlow backend.\n"
     ]
    }
   ],
   "source": [
    "from keras.layers import Input, Dense\n",
    "from keras.models import Model"
   ]
  },
  {
   "cell_type": "code",
   "execution_count": 16,
   "metadata": {},
   "outputs": [],
   "source": [
    "def create_encoder(data, encoding_dim):\n",
    "\n",
    "    input_vec = Input(shape=(300,))\n",
    "    encoded = Dense(128, activation='sigmoid')(input_vec)\n",
    "    encoded = Dense(encoding_dim, activation='sigmoid')(encoded)\n",
    "    \n",
    "    decoded = Dense(128, activation='sigmoid')(encoded)\n",
    "    decoded = Dense(300, activation='sigmoid')(decoded)\n",
    "\n",
    "    # this model maps an input to its reconstruction\n",
    "    autoencoder = Model(input_vec, decoded)\n",
    "    encoder = Model(input_vec, encoded)\n",
    "    \n",
    "    autoencoder.compile(optimizer='adadelta', loss='binary_crossentropy')\n",
    "    \n",
    "    st = np.array(random.sample(data, len(data)))\n",
    "\n",
    "    X_train = st[:int(len(data) * 0.6), :]\n",
    "    X_test = st[int(len(data) * 0.6):, :]\n",
    "    \n",
    "    h = autoencoder.fit(X_train, X_train,\n",
    "                    epochs=120,\n",
    "                    batch_size=64,\n",
    "                    shuffle=True,\n",
    "                    validation_data=(X_test, X_test), verbose=0)\n",
    "    \n",
    "    histories.append(h.history['loss'])\n",
    "        \n",
    "    return encoder"
   ]
  },
  {
   "cell_type": "code",
   "execution_count": 19,
   "metadata": {},
   "outputs": [
    {
     "name": "stdout",
     "output_type": "stream",
     "text": [
      "CPU times: user 2min 41s, sys: 9.83 s, total: 2min 50s\n",
      "Wall time: 2min 22s\n"
     ]
    }
   ],
   "source": [
    "%%time\n",
    "\n",
    "dims = [8, 16, 32, 64]\n",
    "\n",
    "histories = []\n",
    "\n",
    "encoders = [[\n",
    "    create_encoder(topic_vectors.tolist(), dim),\n",
    "    create_encoder(event_vectors.tolist(), dim),\n",
    "    create_encoder(ground_vectors.tolist(), dim),\n",
    "    create_encoder(vehicle_vectors.tolist(), dim)\n",
    "] for dim in dims]"
   ]
  },
  {
   "cell_type": "code",
   "execution_count": 22,
   "metadata": {},
   "outputs": [
    {
     "name": "stdout",
     "output_type": "stream",
     "text": [
      "Search over 8 finished\n",
      "Search over 16 finished\n",
      "Search over 32 finished\n",
      "Search over 64 finished\n"
     ]
    }
   ],
   "source": [
    "vecs_array = np.array([topic_vectors, event_vectors, ground_vectors, vehicle_vectors])\n",
    "\n",
    "scores = np.zeros((len(dims), len(ns)))\n",
    "    \n",
    "for i, dim in enumerate(dims):\n",
    "\n",
    "    redu_topic_vectors = encoders[i][0].predict(vecs_array[0])\n",
    "    redu_event_vectors = encoders[i][1].predict(vecs_array[1])\n",
    "    redu_ground_vectors = encoders[i][2].predict(vecs_array[2])\n",
    "    redu_vehicle_vectors = encoders[i][3].predict(vecs_array[3])\n",
    "\n",
    "    redu_shuf_topic_vectors = encoders[i][0].predict(vecs_shuffled_all[0])\n",
    "    redu_shuf_event_vectors = encoders[i][1].predict(vecs_shuffled_all[1])\n",
    "    redu_shuf_ground_vectors = encoders[i][2].predict(vecs_shuffled_all[2])\n",
    "    redu_shuf_vehicle_vectors = encoders[i][3].predict(vecs_shuffled_all[3])\n",
    "\n",
    "    redu_all = np.hstack([redu_topic_vectors, redu_event_vectors, redu_ground_vectors, redu_vehicle_vectors])\n",
    "    redu_shuf_all = np.hstack([redu_shuf_topic_vectors, redu_shuf_event_vectors, redu_shuf_ground_vectors, redu_shuf_vehicle_vectors])\n",
    "\n",
    "    # calculate some metric for GMM of n components\n",
    "    for j, n_comp in enumerate(ns):\n",
    "        gm = GaussianMixture(n_components=n_comp, covariance_type='diag', n_init=4, init_params='random', tol=1e-3,\n",
    "                            warm_start=True)\n",
    "\n",
    "        gmf = gm.fit(redu_all)\n",
    "\n",
    "        scores[i, j] = gmf.aic(redu_all) - gmf.aic(redu_shuf_all)\n",
    "\n",
    "    print(f'Search over {dim} finished')"
   ]
  },
  {
   "cell_type": "code",
   "execution_count": 178,
   "metadata": {},
   "outputs": [
    {
     "data": {
      "text/plain": [
       "(331, 64, -455034.52453004726)"
      ]
     },
     "execution_count": 178,
     "metadata": {},
     "output_type": "execute_result"
    }
   ],
   "source": [
    "top_dim, top_comp = np.unravel_index(np.argmin(scores), scores.shape)\n",
    "\n",
    "ns[top_comp], dims[top_dim], scores[top_dim, top_comp]"
   ]
  },
  {
   "cell_type": "code",
   "execution_count": 23,
   "metadata": {},
   "outputs": [
    {
     "name": "stdout",
     "output_type": "stream",
     "text": [
      "64 -443,537.49424495193\n"
     ]
    },
    {
     "data": {
      "image/png": "[encoded data removed]",
      "text/plain": [
       "<Figure size 576x288 with 2 Axes>"
      ]
     },
     "metadata": {},
     "output_type": "display_data"
    }
   ],
   "source": [
    "plt.subplots(figsize=(8,4))\n",
    "g = sns.heatmap(scores[:, :], cmap='gnuplot', vmin=np.min(scores), vmax=np.max(scores))\n",
    "g.set_yticklabels(dims)\n",
    "g.set_xticklabels(ns, rotation=30, ha='right');\n",
    "\n",
    "y, x = np.unravel_index(np.argmin(scores[:, :]), scores[:, :].shape)\n",
    "print(f'{dims[y]} {scores[y, x]:,}')\n",
    "\n",
    "# plt.text(x+0.5, y+0.3, f'{ns[x]} - {decomp_levels[y]}', ha='center', color='w');\n",
    "# plt.scatter(x+0.5, y+0.5, s=50, c='w')"
   ]
  },
  {
   "cell_type": "markdown",
   "metadata": {},
   "source": [
    "# Kernel PCA"
   ]
  },
  {
   "cell_type": "code",
   "execution_count": 24,
   "metadata": {},
   "outputs": [],
   "source": [
    "from scipy.stats import entropy"
   ]
  },
  {
   "cell_type": "code",
   "execution_count": 25,
   "metadata": {},
   "outputs": [
    {
     "name": "stdout",
     "output_type": "stream",
     "text": [
      "Search over 10 finished\n",
      "Search over 15 finished\n",
      "Search over 20 finished\n",
      "Search over 25 finished\n",
      "Search over 50 finished\n",
      "Search over 75 finished\n"
     ]
    }
   ],
   "source": [
    "vecs_array = np.array([topic_vectors, event_vectors, ground_vectors, vehicle_vectors])\n",
    "\n",
    "dims = [10, 15, 20, 25, 50, 75]\n",
    "scores = np.zeros((len(dims), len(ns)))\n",
    "metric = np.zeros((len(dims), len(ns)))\n",
    "    \n",
    "for i, dim in enumerate(dims):\n",
    "    \n",
    "    decomp_topic = KernelPCA(n_components=dim, kernel='rbf', gamma=0.3)\n",
    "    decomp_event = KernelPCA(n_components=dim, kernel='rbf', gamma=0.3)\n",
    "    decomp_ground = KernelPCA(n_components=dim, kernel='rbf', gamma=0.3)\n",
    "    decomp_vehicle = KernelPCA(n_components=dim, kernel='rbf', gamma=0.3)\n",
    "\n",
    "    redu_topic_vectors = decomp_topic.fit_transform(vecs_array[0])\n",
    "    redu_event_vectors = decomp_event.fit_transform(vecs_array[1])\n",
    "    redu_ground_vectors = decomp_ground.fit_transform(vecs_array[2])\n",
    "    redu_vehicle_vectors = decomp_vehicle.fit_transform(vecs_array[3])\n",
    "\n",
    "    redu_shuf_topic_vectors = decomp_topic.fit_transform(vecs_shuffled_all[0])\n",
    "    redu_shuf_event_vectors = decomp_event.fit_transform(vecs_shuffled_all[1])\n",
    "    redu_shuf_ground_vectors = decomp_ground.fit_transform(vecs_shuffled_all[2])\n",
    "    redu_shuf_vehicle_vectors = decomp_vehicle.fit_transform(vecs_shuffled_all[3])\n",
    "\n",
    "    redu_all = np.hstack([redu_topic_vectors, redu_event_vectors, redu_ground_vectors, redu_vehicle_vectors])\n",
    "    redu_shuf_all = np.hstack([redu_shuf_topic_vectors, redu_shuf_event_vectors, redu_shuf_ground_vectors, redu_shuf_vehicle_vectors])\n",
    "\n",
    "    # calculate some metric for GMM of n components\n",
    "    for j, n_comp in enumerate(ns):\n",
    "        gm = GaussianMixture(n_components=n_comp, covariance_type='diag', n_init=4, init_params='random', tol=1e-3,\n",
    "                            warm_start=True)\n",
    "\n",
    "        gmf = gm.fit(redu_all)\n",
    "\n",
    "        scores[i, j] = gmf.aic(redu_all) - gmf.aic(redu_shuf_all)\n",
    "        \n",
    "        pred = gm.predict(redu_all)\n",
    "        _, count = np.unique(pred, return_counts=True)\n",
    "        metric[i, j] = entropy(count)\n",
    "        \n",
    "\n",
    "    print(f'Search over {dim} finished')"
   ]
  },
  {
   "cell_type": "code",
   "execution_count": 95,
   "metadata": {},
   "outputs": [
    {
     "data": {
      "text/plain": [
       "(234, 10, -56139896.078501575)"
      ]
     },
     "execution_count": 95,
     "metadata": {},
     "output_type": "execute_result"
    }
   ],
   "source": [
    "top_dim, top_comp = np.unravel_index(np.argmin(scores), scores.shape)\n",
    "\n",
    "ns[top_comp], dims[top_dim], scores[top_dim, top_comp]"
   ]
  },
  {
   "cell_type": "code",
   "execution_count": 27,
   "metadata": {},
   "outputs": [
    {
     "name": "stdout",
     "output_type": "stream",
     "text": [
      "15 331 -58,843,118\n"
     ]
    },
    {
     "data": {
      "image/png": "[encoded data removed]",
      "text/plain": [
       "<Figure size 720x288 with 2 Axes>"
      ]
     },
     "metadata": {},
     "output_type": "display_data"
    }
   ],
   "source": [
    "plt.subplots(figsize=(10,4))\n",
    "cb = scores\n",
    "g = sns.heatmap(scores, cmap='gnuplot', vmin=np.min(scores), vmax=np.max(scores))\n",
    "g.set_yticklabels(dims)\n",
    "g.set_xticklabels(ns, rotation=30, ha='right')\n",
    "plt.xlabel('Components')\n",
    "plt.ylabel('Dimensions')\n",
    "plt.title('Model AIC - truth minus shuffled')\n",
    "plt.savefig('modelaic.png', dpi=300)\n",
    "\n",
    "y, x = np.unravel_index(np.argmin(scores[:, :]), scores[:, :].shape)\n",
    "print(f'{dims[y]} {ns[x]} {int(cb[y, x]):,}')"
   ]
  },
  {
   "cell_type": "code",
   "execution_count": 28,
   "metadata": {},
   "outputs": [
    {
     "name": "stdout",
     "output_type": "stream",
     "text": [
      "20 2\n"
     ]
    },
    {
     "data": {
      "image/png": "[encoded data removed]",
      "text/plain": [
       "<Figure size 720x288 with 2 Axes>"
      ]
     },
     "metadata": {},
     "output_type": "display_data"
    }
   ],
   "source": [
    "plt.subplots(figsize=(10,4))\n",
    "metric = np.sqrt(metric)\n",
    "g = sns.heatmap(metric[:, :], cmap='gnuplot', vmin=np.min(metric), vmax=np.max(metric))\n",
    "g.set_yticklabels(dims)\n",
    "g.set_xticklabels(ns, rotation=30, ha='right')\n",
    "plt.xlabel('Components')\n",
    "plt.ylabel('Dimensions')\n",
    "\n",
    "y, x = np.unravel_index(np.argmax(metric[:, :]), metric[:, :].shape)\n",
    "print(f'{dims[y]} {int(metric[y, x]):,}')"
   ]
  },
  {
   "cell_type": "code",
   "execution_count": 29,
   "metadata": {},
   "outputs": [
    {
     "name": "stdout",
     "output_type": "stream",
     "text": [
      "(345, 60)\n",
      "CPU times: user 1.36 s, sys: 38.8 ms, total: 1.4 s\n",
      "Wall time: 828 ms\n"
     ]
    },
    {
     "data": {
      "text/plain": [
       "GaussianMixture(covariance_type='diag', init_params='random', max_iter=100,\n",
       "        means_init=None, n_components=303, n_init=10, precisions_init=None,\n",
       "        random_state=None, reg_covar=1e-06, tol=0.001, verbose=0,\n",
       "        verbose_interval=10, warm_start=False, weights_init=None)"
      ]
     },
     "execution_count": 29,
     "metadata": {},
     "output_type": "execute_result"
    }
   ],
   "source": [
    "\n",
    "decomp_topic = KernelPCA(n_components=15, kernel='rbf', gamma=0.3)\n",
    "decomp_event = KernelPCA(n_components=15, kernel='rbf', gamma=0.3)\n",
    "decomp_ground = KernelPCA(n_components=15, kernel='rbf', gamma=0.3)\n",
    "decomp_vehicle = KernelPCA(n_components=15, kernel='rbf', gamma=0.3)\n",
    "\n",
    "redu_topic_vectors = decomp_topic.fit_transform(vecs_array[0])\n",
    "redu_event_vectors = decomp_event.fit_transform(vecs_array[1])\n",
    "redu_ground_vectors = decomp_ground.fit_transform(vecs_array[2])\n",
    "redu_vehicle_vectors = decomp_vehicle.fit_transform(vecs_array[3])\n",
    "\n",
    "redu_array = np.array([redu_topic_vectors, redu_event_vectors, redu_ground_vectors, redu_vehicle_vectors])\n",
    "redu_all = np.hstack(redu_array)\n",
    "\n",
    "print(redu_all.shape)\n",
    "\n",
    "n_comps = 303\n",
    "gm = GaussianMixture(n_components=n_comps, covariance_type='diag', n_init=10, init_params='random', tol=1e-3)\n",
    "\n",
    "%time gmf = gm.fit(redu_all)\n",
    "\n",
    "gm"
   ]
  },
  {
   "cell_type": "markdown",
   "metadata": {},
   "source": [
    "# Generative Model"
   ]
  },
  {
   "cell_type": "code",
   "execution_count": 30,
   "metadata": {},
   "outputs": [],
   "source": [
    "rvs = [multivariate_normal(mean=gmf.means_[i, :], cov=gmf.covariances_[i, :]) for i in range(n_comps)]"
   ]
  },
  {
   "cell_type": "code",
   "execution_count": 31,
   "metadata": {},
   "outputs": [],
   "source": [
    "def cycle_latent_data(input_dict, verbose=0):\n",
    "    global component_ixs\n",
    "\n",
    "    tv = np.random.normal(scale=0.3, size=(1,300))#np.zeros((1, 300))\n",
    "    ev = np.random.normal(scale=0.3, size=(1,300))#np.zeros((1, 300))\n",
    "    gv = np.random.normal(scale=0.3, size=(1,300))#np.zeros((1, 300))\n",
    "    vv = np.random.normal(scale=0.3, size=(1,300))#np.zeros((1, 300))\n",
    "\n",
    "    embedding = embed_tokens(input_dict['tokens'])\n",
    "    \n",
    "    latent = []\n",
    "\n",
    "    if input_dict['topic']:\n",
    "        tv = np.nanmean(embedding[input_dict['topic']], axis=0)\n",
    "    else:\n",
    "        latent.append('topic')\n",
    "\n",
    "    if input_dict['event']:\n",
    "        ev = np.nanmean(embedding[input_dict['event']], axis=0)\n",
    "    else:\n",
    "        latent.append('event')\n",
    "\n",
    "    if input_dict['ground']:\n",
    "        gv = np.nanmean(embedding[input_dict['ground']], axis=0)\n",
    "    else:\n",
    "        latent.append('ground')\n",
    "\n",
    "    if input_dict['vehicle']:\n",
    "        vv = np.nanmean(embedding[input_dict['vehicle']], axis=0)\n",
    "    else:\n",
    "        latent.append('vehicle')   \n",
    "        \n",
    "    out = []\n",
    "        \n",
    "    for mix in permutations(latent):\n",
    "        \n",
    "        combined = np.array([decomp_topic.transform(np.atleast_2d(tv)), \n",
    "                             decomp_event.transform(np.atleast_2d(ev)), \n",
    "                             decomp_ground.transform(np.atleast_2d(gv)), \n",
    "                             decomp_vehicle.transform(np.atleast_2d(vv))])\n",
    "        \n",
    "        mixout = []\n",
    "        \n",
    "        if verbose > 0:\n",
    "            print(f'Testing: {mix}')\n",
    "        \n",
    "        for lat in mix:\n",
    "            component_ixs = [0,1,2,3]\n",
    "            ix = component_tags.index(lat)\n",
    "            del component_ixs[ix]\n",
    "            \n",
    "            if verbose > 1:\n",
    "                print(f'Search for most probable: {lat}')\n",
    "            latent, vocab_ix, comp, post_prob = cycle_potential_vocab(lat, combined[component_ixs])\n",
    "                        \n",
    "            mixout.append([ix, vocab_ix, comp, post_prob])\n",
    "            \n",
    "            # update the latent component to the value that maximizes the current probability\n",
    "            combined[ix] = redu_array[ix, vocab_ix]\n",
    "            if verbose > 1:\n",
    "                print(f'Fill latent with \"{get_component(vocab_ix, latent).lower()}\"')\n",
    "            \n",
    "        out.append(mixout)\n",
    "        if verbose > 2:\n",
    "            print(f'MLE: {np.array(mixout)[:, 3].sum():.3f}')\n",
    "        if verbose > 0:\n",
    "            print()\n",
    "        \n",
    "    return np.array(out)\n",
    "\n",
    "def cycle_potential_vocab(latent_component, remaining_components):\n",
    "    '''\n",
    "    Given an unknown vector, but three known vectors, iterate over all vocabularly possibilities to\n",
    "    maximize the likelihood.\n",
    "    \n",
    "    i.e. choose the best vocab for the missing data\n",
    "    '''\n",
    "    if latent_component is 'topic':\n",
    "        posteriors = np.array([choose_best_mixture(np.atleast_2d(vec), \n",
    "                               remaining_components[0], \n",
    "                               remaining_components[1], \n",
    "                               remaining_components[2]) \n",
    "                               for vec in redu_topic_vectors])\n",
    "\n",
    "    \n",
    "    elif latent_component is 'event':\n",
    "        posteriors = np.array([choose_best_mixture(remaining_components[0], \n",
    "                               np.atleast_2d(vec), \n",
    "                               remaining_components[1], \n",
    "                               remaining_components[2]) \n",
    "                               for vec in redu_event_vectors])\n",
    "        \n",
    "    elif latent_component is 'ground':\n",
    "        posteriors = np.array([choose_best_mixture(remaining_components[0], \n",
    "                               remaining_components[1], \n",
    "                               np.atleast_2d(vec), \n",
    "                               remaining_components[2]) \n",
    "                               for vec in redu_ground_vectors])\n",
    "\n",
    "    elif latent_component is 'vehicle':\n",
    "        posteriors = np.array([choose_best_mixture(remaining_components[0], \n",
    "                               remaining_components[1], \n",
    "                               remaining_components[2], \n",
    "                               np.atleast_2d(vec)) \n",
    "                               for vec in redu_vehicle_vectors])\n",
    "\n",
    "    m = np.argmax(posteriors[:, 1])\n",
    "    return latent_component, m, posteriors[m, 0], posteriors[m, 1]\n",
    "    \n",
    "def choose_best_mixture(topic, event, ground, vehicle):\n",
    "    '''\n",
    "    Given four vector components, return the MLE of which Gaussian component the vectors should\n",
    "    belong to.\n",
    "    \n",
    "    i.e. choose the best model for and probability of the given data\n",
    "    '''\n",
    "    redu_all = np.hstack([topic, event, ground, vehicle])\n",
    "            \n",
    "    posteriors = [rvs[gmm_comp].logpdf(redu_all) for gmm_comp in range(n_comps)]\n",
    "                        \n",
    "    return (np.argmax(posteriors), np.max(posteriors))"
   ]
  },
  {
   "cell_type": "code",
   "execution_count": 32,
   "metadata": {},
   "outputs": [],
   "source": [
    "def piece_fit(fit):\n",
    "    complete = {}\n",
    "    component_ixs = [0,1,2,3]\n",
    "    for comp_ix in component_ixs:\n",
    "        tag = component_tags[comp_ix]\n",
    "\n",
    "        if comp_ix in fit[:, 0].astype(int):\n",
    "            w = np.where(fit[:, 0].astype(int) == comp_ix)[0]\n",
    "            text = get_component(int(fit[w, 1]), tag)\n",
    "            complete[tag] = text\n",
    "        else:\n",
    "            complete[tag] = \" \".join(inp[\"tokens\"][inp[tag]])\n",
    "\n",
    "    return complete\n",
    "\n",
    "def format_simile(components):\n",
    "    \n",
    "    t = components['topic']\n",
    "    e = components['event']\n",
    "    g = components['ground']\n",
    "    v = components['vehicle']\n",
    "    \n",
    "    if g and t and e and v:\n",
    "        return f'{t} {e} as {g} as {v}'.capitalize()\n",
    "    elif not g and t and e and v:\n",
    "        return f'{t} {e} like {v}'.capitalize()\n",
    "    elif not t and g and not e and v:\n",
    "        return f'{g} like {v}'.capitalize()\n",
    "    elif not e and t and g and v:\n",
    "        return f'{t} as {g} as {v}'.capitalize()\n",
    "    elif not t and e and g and v:\n",
    "        return f'{e} {g} as {v}'.capitalize()\n",
    "    elif not t and not g and e and v:\n",
    "        return f'{e} like {v}'.capitalize()\n",
    "    else:\n",
    "        return components"
   ]
  },
  {
   "cell_type": "code",
   "execution_count": 43,
   "metadata": {
    "scrolled": true
   },
   "outputs": [
    {
     "name": "stdout",
     "output_type": "stream",
     "text": [
      "Testing: ('event', 'ground', 'vehicle')\n",
      "Search for most probable: event\n",
      "Fill latent with \"\"\n",
      "Search for most probable: ground\n",
      "Fill latent with \"\"\n",
      "Search for most probable: vehicle\n",
      "Fill latent with \"a pricked balloon\"\n",
      "MLE: 433.377\n",
      "\n",
      "Testing: ('event', 'vehicle', 'ground')\n",
      "Search for most probable: event\n",
      "Fill latent with \"\"\n",
      "Search for most probable: vehicle\n",
      "Fill latent with \"a cucumber\"\n",
      "Search for most probable: ground\n",
      "Fill latent with \"\"\n",
      "MLE: 312.597\n",
      "\n",
      "Testing: ('ground', 'event', 'vehicle')\n",
      "Search for most probable: ground\n",
      "Fill latent with \"\"\n",
      "Search for most probable: event\n",
      "Fill latent with \"was\"\n",
      "Search for most probable: vehicle\n",
      "Fill latent with \"a kitten\"\n",
      "MLE: 591.693\n",
      "\n",
      "Testing: ('ground', 'vehicle', 'event')\n",
      "Search for most probable: ground\n",
      "Fill latent with \"\"\n",
      "Search for most probable: vehicle\n",
      "Fill latent with \"a knife\"\n",
      "Search for most probable: event\n",
      "Fill latent with \"was\"\n",
      "MLE: 540.349\n",
      "\n",
      "Testing: ('vehicle', 'event', 'ground')\n",
      "Search for most probable: vehicle\n",
      "Fill latent with \"the night\"\n",
      "Search for most probable: event\n",
      "Fill latent with \"\"\n",
      "Search for most probable: ground\n",
      "Fill latent with \"\"\n",
      "MLE: -2433.310\n",
      "\n",
      "Testing: ('vehicle', 'ground', 'event')\n",
      "Search for most probable: vehicle\n",
      "Fill latent with \"the night\"\n",
      "Search for most probable: ground\n",
      "Fill latent with \"\"\n",
      "Search for most probable: event\n",
      "Fill latent with \"\"\n",
      "MLE: -2255.967\n",
      "\n"
     ]
    },
    {
     "data": {
      "text/plain": [
       "'The sun was like a kitten'"
      ]
     },
     "execution_count": 43,
     "metadata": {},
     "output_type": "execute_result"
    }
   ],
   "source": [
    "inp = {'original': 'The sun', 'topic': [0,1], 'ground': None, 'event': None, 'vehicle': None}\n",
    "inp['tokens'] = np.array([tk.text for tk in nlp(inp['original'])])\n",
    "\n",
    "z = cycle_latent_data(inp, verbose=3)\n",
    "\n",
    "best_fit = np.argmax(np.sum(z[:, :, 3], axis=1))\n",
    "\n",
    "format_simile(piece_fit(z[best_fit]))"
   ]
  },
  {
   "cell_type": "markdown",
   "metadata": {},
   "source": [
    "## Model Prediction Entropy"
   ]
  },
  {
   "cell_type": "code",
   "execution_count": 44,
   "metadata": {},
   "outputs": [
    {
     "name": "stdout",
     "output_type": "stream",
     "text": [
      "4.413972966253574\n",
      "4.396886502961094\n"
     ]
    },
    {
     "data": {
      "text/html": [
       "<div>\n",
       "<style scoped>\n",
       "    .dataframe tbody tr th:only-of-type {\n",
       "        vertical-align: middle;\n",
       "    }\n",
       "\n",
       "    .dataframe tbody tr th {\n",
       "        vertical-align: top;\n",
       "    }\n",
       "\n",
       "    .dataframe thead th {\n",
       "        text-align: right;\n",
       "    }\n",
       "</style>\n",
       "<table border=\"1\" class=\"dataframe\">\n",
       "  <thead>\n",
       "    <tr style=\"text-align: right;\">\n",
       "      <th></th>\n",
       "      <th>component</th>\n",
       "      <th>count</th>\n",
       "    </tr>\n",
       "  </thead>\n",
       "  <tbody>\n",
       "    <tr>\n",
       "      <th>23</th>\n",
       "      <td>41</td>\n",
       "      <td>49</td>\n",
       "    </tr>\n",
       "    <tr>\n",
       "      <th>114</th>\n",
       "      <td>217</td>\n",
       "      <td>17</td>\n",
       "    </tr>\n",
       "    <tr>\n",
       "      <th>70</th>\n",
       "      <td>134</td>\n",
       "      <td>17</td>\n",
       "    </tr>\n",
       "    <tr>\n",
       "      <th>96</th>\n",
       "      <td>184</td>\n",
       "      <td>13</td>\n",
       "    </tr>\n",
       "    <tr>\n",
       "      <th>17</th>\n",
       "      <td>32</td>\n",
       "      <td>13</td>\n",
       "    </tr>\n",
       "    <tr>\n",
       "      <th>32</th>\n",
       "      <td>72</td>\n",
       "      <td>10</td>\n",
       "    </tr>\n",
       "    <tr>\n",
       "      <th>137</th>\n",
       "      <td>256</td>\n",
       "      <td>8</td>\n",
       "    </tr>\n",
       "    <tr>\n",
       "      <th>133</th>\n",
       "      <td>249</td>\n",
       "      <td>7</td>\n",
       "    </tr>\n",
       "    <tr>\n",
       "      <th>140</th>\n",
       "      <td>265</td>\n",
       "      <td>5</td>\n",
       "    </tr>\n",
       "    <tr>\n",
       "      <th>102</th>\n",
       "      <td>194</td>\n",
       "      <td>5</td>\n",
       "    </tr>\n",
       "  </tbody>\n",
       "</table>\n",
       "</div>"
      ],
      "text/plain": [
       "     component  count\n",
       "23          41     49\n",
       "114        217     17\n",
       "70         134     17\n",
       "96         184     13\n",
       "17          32     13\n",
       "32          72     10\n",
       "137        256      8\n",
       "133        249      7\n",
       "140        265      5\n",
       "102        194      5"
      ]
     },
     "execution_count": 44,
     "metadata": {},
     "output_type": "execute_result"
    }
   ],
   "source": [
    "p = gmf.predict(redu_all)\n",
    "\n",
    "a, b = np.unique(p, return_counts=True)\n",
    "\n",
    "print(b.std())\n",
    "print(entropy(b))\n",
    "\n",
    "cc = pd.DataFrame({'component': a, 'count': b}).sort_values(ascending=False, by='count')\n",
    "\n",
    "cc.head(10)"
   ]
  },
  {
   "cell_type": "markdown",
   "metadata": {},
   "source": [
    "# Important Links\n",
    "\n",
    "https://vene.ro/figurative-comparisons/#dataset\n",
    "\n",
    "http://www.ep.liu.se/ecp/126/004/ecp16126004.pdf\n",
    "\n",
    "https://www.aclweb.org/anthology/P13-3013\n",
    "\n",
    "http://www.cs.toronto.edu/~frank/csc401/readings/ReynoldsRose.pdf\n",
    "\n",
    "https://ansible.uk/misc/striking.html\n",
    "\n",
    "in similes.txt, all phrases starting with 'Like' and 'As' were removed\n",
    "\n",
    "Any old English, like \"a flutter'd bird\" were translated to modern spellings.\n",
    "\n",
    "https://github.com/allenai/bilm-tf\n",
    "\n",
    "http://www.english.su.se/polopoly_fs/1.100637.1347450592!/menu/standard/file/SMF_2012_Patrick_Hanks_plenary.pdf\n",
    "\n",
    "https://www.academicscope.com/literature-review-on-automatic-simile-and-metaphor-recognizers/\n",
    "\n",
    "McLachlan, G. J., & Rathnayake, S. (2014). On the number of components in a Gaussian mixture model. Wiley Interdisciplinary Reviews: Data Mining and Knowledge Discovery, 4(5), 341-355.\n",
    "\n",
    "http://aclweb.org/anthology/W18-09\n",
    "\n",
    "Computational considerations of comparisons and similes\n",
    "https://www.aclweb.org/anthology/P13-3013\n",
    "\n",
    "A Computational System of Metaphor Generation with Evaluation Mechanism\n",
    "https://rd.springer.com/content/pdf/10.1007%2F978-3-642-15822-3_18.pdf\n",
    "\n",
    "Towards the Automatic Mining of Similes in Literary Texts\n",
    "http://www.ep.liu.se/ecp/126/004/ecp16126004.pdf\n",
    "\n",
    "Literature Review on Automatic Simile and Metaphor Recognizers\n",
    "https://www.academicscope.com/literature-review-on-automatic-simile-and-metaphor-recognizers/\n",
    "\n",
    "https://github.com/alexWhitworth/emclustr/blob/master/R/clust_mvn_miss.R"
   ]
  }
 ],
 "metadata": {
  "kernelspec": {
   "display_name": "Python 3",
   "language": "python",
   "name": "python3"
  },
  "language_info": {
   "codemirror_mode": {
    "name": "ipython",
    "version": 3
   },
   "file_extension": ".py",
   "mimetype": "text/x-python",
   "name": "python",
   "nbconvert_exporter": "python",
   "pygments_lexer": "ipython3",
   "version": "3.6.3"
  }
 },
 "nbformat": 4,
 "nbformat_minor": 2
}
