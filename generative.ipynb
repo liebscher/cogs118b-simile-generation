{
 "cells": [
  {
   "cell_type": "markdown",
   "metadata": {},
   "source": [
    "https://vene.ro/figurative-comparisons/#dataset\n",
    "\n",
    "http://www.ep.liu.se/ecp/126/004/ecp16126004.pdf"
   ]
  },
  {
   "cell_type": "markdown",
   "metadata": {},
   "source": [
    "https://www.aclweb.org/anthology/P13-3013"
   ]
  },
  {
   "cell_type": "markdown",
   "metadata": {},
   "source": [
    "https://ansible.uk/misc/striking.html\n",
    "\n",
    "in similes.txt, all phrases starting with 'Like' and 'As' were removed\n",
    "\n",
    "Any old English, like \"a flutter'd bird\" were translated to modern spellings.\n",
    "\n",
    "https://github.com/allenai/bilm-tf\n",
    "\n",
    "http://www.english.su.se/polopoly_fs/1.100637.1347450592!/menu/standard/file/SMF_2012_Patrick_Hanks_plenary.pdf\n",
    "\n",
    "https://www.academicscope.com/literature-review-on-automatic-simile-and-metaphor-recognizers/"
   ]
  },
  {
   "cell_type": "markdown",
   "metadata": {},
   "source": [
    "McLachlan, G. J., & Rathnayake, S. (2014). On the number of components in a Gaussian mixture model. Wiley Interdisciplinary Reviews: Data Mining and Knowledge Discovery, 4(5), 341-355.\n",
    "\n",
    "http://aclweb.org/anthology/W18-09\n",
    "\n",
    "Computational considerations of comparisons and similes\n",
    "https://www.aclweb.org/anthology/P13-3013\n",
    "\n",
    "A Computational System of Metaphor Generation with Evaluation Mechanism\n",
    "https://rd.springer.com/content/pdf/10.1007%2F978-3-642-15822-3_18.pdf\n",
    "\n",
    "Towards the Automatic Mining of Similes in Literary Texts\n",
    "http://www.ep.liu.se/ecp/126/004/ecp16126004.pdf\n",
    "\n",
    "Literature Review on Automatic Simile and Metaphor Recognizers\n",
    "https://www.academicscope.com/literature-review-on-automatic-simile-and-metaphor-recognizers/\n",
    "\n",
    "https://github.com/alexWhitworth/emclustr/blob/master/R/clust_mvn_miss.R"
   ]
  },
  {
   "cell_type": "code",
   "execution_count": null,
   "metadata": {},
   "outputs": [],
   "source": [
    "import pandas as pd\n",
    "import numpy as np\n",
    "\n",
    "from itertools import permutations\n",
    "from scipy.stats import multivariate_normal\n",
    "from scipy.spatial.distance import pdist\n",
    "\n",
    "from sklearn.decomposition import PCA\n",
    "from sklearn.mixture import GaussianMixture\n",
    "\n",
    "import seaborn as sns\n",
    "import matplotlib.pyplot as plt\n",
    "\n",
    "from gensim.models.keyedvectors import KeyedVectors\n",
    "import spacy\n",
    "\n",
    "nlp = spacy.load('en_core_web_sm')"
   ]
  },
  {
   "cell_type": "code",
   "execution_count": null,
   "metadata": {},
   "outputs": [],
   "source": [
    "from allennlp.commands.elmo import ElmoEmbedder\n",
    "elmo = ElmoEmbedder()"
   ]
  },
  {
   "cell_type": "markdown",
   "metadata": {},
   "source": [
    "# Simile data\n",
    "\n",
    "Components are manually extracted"
   ]
  },
  {
   "cell_type": "code",
   "execution_count": null,
   "metadata": {},
   "outputs": [],
   "source": [
    "component_ixs = [0,1,2,3]\n",
    "component_tags = ['topic', 'event', 'ground', 'vehicle']"
   ]
  },
  {
   "cell_type": "code",
   "execution_count": null,
   "metadata": {},
   "outputs": [],
   "source": [
    "sentences = pd.read_json('similes.json', orient='records')\n",
    "\n",
    "%time sentences['nlp'] = sentences['original'].apply(lambda text: nlp(text))\n",
    "\n",
    "len(sentences)"
   ]
  },
  {
   "cell_type": "code",
   "execution_count": null,
   "metadata": {},
   "outputs": [],
   "source": [
    "model = KeyedVectors.load_word2vec_format('google-news.bin', binary=True)"
   ]
  },
  {
   "cell_type": "code",
   "execution_count": null,
   "metadata": {},
   "outputs": [],
   "source": [
    "def embed_tokens(tokens):\n",
    "    \n",
    "#     elmo_v = elmo.embed_sentence(tokens)[1]\n",
    "\n",
    "    w2v_v = np.ones((len(tokens), 300)) * np.nan\n",
    "    for i, tk in enumerate(tokens):\n",
    "        try:\n",
    "            w2v_v[i, :] = model[tk]\n",
    "        except:\n",
    "            if tk not in OOV:\n",
    "                OOV.append(tk)\n",
    "    \n",
    "    return w2v_v #np.hstack([elmo_v, w2v_v])"
   ]
  },
  {
   "cell_type": "code",
   "execution_count": null,
   "metadata": {},
   "outputs": [],
   "source": [
    "\n",
    "OOV = []\n",
    "\n",
    "# topic_vectors =   np.zeros((len(sentences), 300))\n",
    "topic_vectors =   np.random.normal(scale=0.2, size=(len(sentences), 300))\n",
    "# event_vectors =   np.zeros((len(sentences), 300))\n",
    "event_vectors =   np.random.normal(scale=0.2, size=(len(sentences), 300))\n",
    "# ground_vectors =  np.zeros((len(sentences), 300))\n",
    "ground_vectors =  np.random.normal(scale=0.2, size=(len(sentences), 300))\n",
    "# vehicle_vectors = np.zeros((len(sentences), 300))\n",
    "vehicle_vectors = np.random.normal(scale=0.2, size=(len(sentences), 300))\n",
    "\n",
    "for ix, s in sentences.iterrows():\n",
    "    \n",
    "    tokens = np.array([tk.text for tk in s['nlp']])\n",
    "    embedding = embed_tokens(tokens)\n",
    "        \n",
    "    for tag, vec in zip(component_tags, [topic_vectors, event_vectors, ground_vectors, vehicle_vectors]):\n",
    "        if s[tag]:\n",
    "            emb = embedding[s[tag], :]\n",
    "            \n",
    "            if np.isnan(emb).all():\n",
    "                print(ix, tag)\n",
    "                mn = np.random.normal(scale=1, size=(300,))\n",
    "            else:\n",
    "                mn = np.nanmean(emb, axis=0)\n",
    "\n",
    "            vec[ix] = mn"
   ]
  },
  {
   "cell_type": "code",
   "execution_count": null,
   "metadata": {},
   "outputs": [],
   "source": [
    "print(OOV)"
   ]
  },
  {
   "cell_type": "markdown",
   "metadata": {},
   "source": [
    "# Similarity with Latent Component\n",
    "\n",
    "If we remove a component, the overall syntatical expression remains with a predictability that hopefully can be leveraged with a Gaussian Mixture Model (or some other latent variable maximization algorithm). "
   ]
  },
  {
   "cell_type": "code",
   "execution_count": null,
   "metadata": {},
   "outputs": [],
   "source": [
    "inp = {'original': 'Their love burned as passionate as', 'topic': [0,1], 'ground': [4], 'event': [2], 'vehicle': None}\n",
    "\n",
    "tokens = np.array([tk.text for tk in nlp(inp['original'])])\n",
    "\n",
    "example_topic_vector =   np.zeros((1, 300)) #.random.normal(scale=0.5, size=(1, 300))\n",
    "example_event_vector =   np.zeros((1, 300)) #.random.normal(scale=0.5, size=(1, 300))\n",
    "example_ground_vector =  np.zeros((1, 300)) #.random.normal(scale=0.5, size=(1, 300))\n",
    "example_vehicle_vector = np.zeros((1, 300)) #.random.normal(scale=0.5, size=(1, 300))\n",
    "\n",
    "embedding = embed_tokens(tokens)\n",
    "\n",
    "if inp['topic']:\n",
    "    example_topic_vector = embedding[inp['topic']].mean(axis=0)\n",
    "if inp['event']:\n",
    "    example_event_vector = embedding[inp['event']].mean(axis=0)\n",
    "if inp['ground']:\n",
    "    example_ground_vector = embedding[inp['ground']].mean(axis=0)\n",
    "if inp['vehicle']:\n",
    "    example_vehicle_vector = embedding[inp['vehicle']].mean(axis=0)\n"
   ]
  },
  {
   "cell_type": "code",
   "execution_count": null,
   "metadata": {
    "scrolled": true
   },
   "outputs": [],
   "source": [
    "yax_labs = ['', '', '', '']\n",
    "xax_labs = ['', '', '', '']\n",
    "ds = np.zeros((4,4))\n",
    "\n",
    "comp = 14\n",
    "\n",
    "norm = [topic_vectors[comp, :], event_vectors[comp, :], ground_vectors[comp, :], vehicle_vectors[comp, :]]\n",
    "example = [example_topic_vector, example_event_vector, example_ground_vector, example_vehicle_vector]\n",
    "labels = ['topic', 'event', 'ground', 'vehicle']\n",
    "\n",
    "for i in range(4):\n",
    "    e = sentences.loc[comp, [labels[i], 'original']].values\n",
    "    phrase1 = np.array([tk.text for tk in nlp(e[1])])[e[0]]\n",
    "    yax_labs[i] = ' '.join(phrase1)\n",
    "    if inp[labels[i]]:\n",
    "        d = 1 - pdist(np.vstack([norm[i], example[i]]), 'cosine')\n",
    "    \n",
    "        ds[i, i] = d\n",
    "        \n",
    "        e = sentences.loc[v2, [labels[i], 'original']].values\n",
    "        \n",
    "        phrase2 = np.array([tk.text for tk in nlp(inp['original'])])[inp[labels[i]]]\n",
    "        xax_labs[i] = ' '.join(phrase2)\n",
    "    elif inp[labels[i]] is None:\n",
    "        xax_labs[i] = 'LAT'\n",
    "\n",
    "g = sns.heatmap(ds, vmin=0, vmax=1, annot=True, cmap='copper')\n",
    "g.set_xticklabels(xax_labs, rotation=30);\n",
    "g.set_yticklabels(yax_labs, rotation=30);"
   ]
  },
  {
   "cell_type": "markdown",
   "metadata": {},
   "source": [
    "# Dimension Reduction"
   ]
  },
  {
   "cell_type": "code",
   "execution_count": null,
   "metadata": {},
   "outputs": [],
   "source": [
    "def get_component(simile_ix, comp):\n",
    "    comp = sentences.loc[simile_ix, comp]\n",
    "    return ' '.join([tk.text for i, tk in enumerate(sentences.loc[simile_ix, 'nlp']) if i in comp])"
   ]
  },
  {
   "cell_type": "markdown",
   "metadata": {},
   "source": [
    "### PCA"
   ]
  },
  {
   "cell_type": "code",
   "execution_count": null,
   "metadata": {},
   "outputs": [],
   "source": [
    "pca_comps = 50\n",
    "dec = PCA(n_components=pca_comps)\n",
    "decf = dec.fit_transform(ground_vectors)\n",
    "    \n",
    "plt.plot(list(range(pca_comps)), np.cumsum(dec.explained_variance_ratio_))\n",
    "plt.xlabel('Component')\n",
    "plt.ylabel('Variance Explained')\n",
    "plt.grid(alpha=0.25)\n",
    "plt.ylim([0,1]);"
   ]
  },
  {
   "cell_type": "markdown",
   "metadata": {},
   "source": [
    "# GMM"
   ]
  },
  {
   "cell_type": "code",
   "execution_count": null,
   "metadata": {},
   "outputs": [],
   "source": [
    "decomp_length = 4\n",
    "\n",
    "decomp_topic = PCA(n_components=decomp_length)\n",
    "decomp_event = PCA(n_components=decomp_length)\n",
    "decomp_ground = PCA(n_components=decomp_length)\n",
    "decomp_vehicle = PCA(n_components=decomp_length)\n",
    "\n",
    "redu_array = np.array([topic_vectors, event_vectors, ground_vectors, vehicle_vectors])\n",
    "\n",
    "redu_topic_vectors = decomp_topic.fit_transform(redu_array[0])\n",
    "redu_event_vectors = decomp_event.fit_transform(redu_array[1])\n",
    "redu_ground_vectors = decomp_ground.fit_transform(redu_array[2])\n",
    "redu_vehicle_vectors = decomp_vehicle.fit_transform(redu_array[3])\n",
    "\n",
    "redu_all = np.hstack([redu_topic_vectors, redu_event_vectors, redu_ground_vectors, redu_vehicle_vectors])"
   ]
  },
  {
   "cell_type": "code",
   "execution_count": null,
   "metadata": {},
   "outputs": [],
   "source": [
    "redu_all.shape"
   ]
  },
  {
   "cell_type": "code",
   "execution_count": null,
   "metadata": {
    "scrolled": true
   },
   "outputs": [],
   "source": [
    "ns = [1]\n",
    "\n",
    "growf = 1.2\n",
    "\n",
    "while ns[-1] * growf < len(redu_all):\n",
    "    \n",
    "    ns.append(np.ceil(ns[-1] * growf).astype(int))"
   ]
  },
  {
   "cell_type": "markdown",
   "metadata": {},
   "source": [
    "\\# of components relies on the complexity of the input vectors"
   ]
  },
  {
   "cell_type": "code",
   "execution_count": 329,
   "metadata": {},
   "outputs": [
    {
     "data": {
      "image/png": "[encoded data removed]",
      "text/plain": [
       "<Figure size 1152x360 with 1 Axes>"
      ]
     },
     "metadata": {},
     "output_type": "display_data"
    }
   ],
   "source": [
    "scores = []\n",
    "\n",
    "m, n = redu_all.shape\n",
    "\n",
    "# calculate some metric for GMM of n components\n",
    "for n_comp in ns:\n",
    "    gm = GaussianMixture(n_components=n_comp, covariance_type='full', n_init=10, tol=1e-4)\n",
    "    gmf = gm.fit(redu_all)\n",
    "    \n",
    "#     P = n_comp * (n + (n*(n+1))/2)\n",
    "\n",
    "#     s = np.sum(gmf.score_samples(redu_all))\n",
    "#     score = -1*s + 0.5 * P * np.log(m)\n",
    "    \n",
    "    scores.append(gmf.aic(redu_all))\n",
    "    \n",
    "plt.subplots(figsize=(16,5))\n",
    "plt.ylabel('AIC')\n",
    "plt.xlabel('# of Components')\n",
    "plt.grid(alpha=0.2)\n",
    "g = sns.barplot(ns, scores, color='r')\n",
    "\n",
    "g.patches[np.argmin(scores)].set_color('b')"
   ]
  },
  {
   "cell_type": "code",
   "execution_count": 330,
   "metadata": {},
   "outputs": [
    {
     "name": "stdout",
     "output_type": "stream",
     "text": [
      "CPU times: user 1.01 s, sys: 21.2 ms, total: 1.03 s\n",
      "Wall time: 607 ms\n"
     ]
    },
    {
     "data": {
      "text/plain": [
       "GaussianMixture(covariance_type='full', init_params='kmeans', max_iter=100,\n",
       "        means_init=None, n_components=58, n_init=10, precisions_init=None,\n",
       "        random_state=None, reg_covar=1e-06, tol=0.0001, verbose=0,\n",
       "        verbose_interval=10, warm_start=False, weights_init=None)"
      ]
     },
     "execution_count": 330,
     "metadata": {},
     "output_type": "execute_result"
    }
   ],
   "source": [
    "n_comps = ns[np.argmin(scores)]\n",
    "gm = GaussianMixture(n_components=n_comps, covariance_type='full', n_init=10, tol=1e-4)\n",
    "\n",
    "%time gmf = gm.fit(redu_all)\n",
    "\n",
    "gm"
   ]
  },
  {
   "cell_type": "code",
   "execution_count": null,
   "metadata": {},
   "outputs": [],
   "source": [
    "p = gmf.predict(redu_all)\n",
    "\n",
    "np.unique(p, return_counts=True)"
   ]
  },
  {
   "cell_type": "code",
   "execution_count": null,
   "metadata": {},
   "outputs": [],
   "source": [
    "sentences.loc[p == 3, 'original']"
   ]
  },
  {
   "cell_type": "markdown",
   "metadata": {},
   "source": [
    "# Generative Model"
   ]
  },
  {
   "cell_type": "code",
   "execution_count": null,
   "metadata": {},
   "outputs": [],
   "source": [
    "def cycle_latent_data(input_dict):\n",
    "    global component_ixs\n",
    "\n",
    "    tv = np.zeros((1, 300)) #.random.normal(scale=0.5, size=(1, 300))\n",
    "    ev = np.zeros((1, 300)) #.random.normal(scale=0.5, size=(1, 300))\n",
    "    gv = np.zeros((1, 300)) #.random.normal(scale=0.5, size=(1, 300))\n",
    "    vv = np.zeros((1, 300)) #.random.normal(scale=0.5, size=(1, 300))\n",
    "\n",
    "    embedding = embed_tokens(input_dict['tokens'])\n",
    "    \n",
    "    latent = []\n",
    "\n",
    "    if inp['topic']:\n",
    "        tv = embedding[inp['topic']].mean(axis=0)\n",
    "    else:\n",
    "        latent.append('topic')\n",
    "\n",
    "    if inp['event']:\n",
    "        ev = embedding[inp['event']].mean(axis=0)\n",
    "    else:\n",
    "        latent.append('event')\n",
    "\n",
    "    if inp['ground']:\n",
    "        gv = embedding[inp['ground']].mean(axis=0)\n",
    "    else:\n",
    "        latent.append('ground')\n",
    "\n",
    "    if inp['vehicle']:\n",
    "        vv = embedding[inp['vehicle']].mean(axis=0)\n",
    "    else:\n",
    "        latent.append('vehicle')   \n",
    "        \n",
    "    out = []\n",
    "    \n",
    "    for mix in permutations(latent):\n",
    "        combined = np.array([tv, ev, gv, vv])\n",
    "        mixout = []\n",
    "        for lat in mix:\n",
    "            ix = component_tags.index(lat)\n",
    "            del component_ixs[ix]\n",
    "            latent, vocab_ix, comp, post_prob = cycle_potential_vocab(lat, combined[component_ixs])\n",
    "            mixout.append([ix, vocab_ix, comp, post_prob])\n",
    "            combined[ix] = redu_array[ix, vocab_ix]\n",
    "            component_ixs = [0,1,2,3]\n",
    "            \n",
    "        out.append(mixout)\n",
    "        \n",
    "    return np.array(out)\n",
    "\n",
    "def cycle_potential_vocab(latent_component, remaining_components):\n",
    "    '''\n",
    "    Given an unknown vector, but three known vectors, iterate over all vocabularly possibilities to\n",
    "    maximize the posterior.\n",
    "    \n",
    "    i.e. choose the best vocab for the missing data\n",
    "    '''\n",
    "    if latent_component is 'topic':\n",
    "        posteriors = np.zeros((len(topic_vectors), 2))\n",
    "        for i, vec in enumerate(topic_vectors):\n",
    "            posteriors[i, :] = choose_best_mixture(gmf, vec, remaining_components[0], remaining_components[1], remaining_components[2])\n",
    "    \n",
    "    elif latent_component is 'event':\n",
    "        posteriors = np.zeros((len(event_vectors), 2))\n",
    "        for i, vec in enumerate(event_vectors):\n",
    "            posteriors[i, :] = choose_best_mixture(gmf, remaining_components[0], vec, remaining_components[1], remaining_components[2])\n",
    "    \n",
    "    elif latent_component is 'ground':\n",
    "        posteriors = np.zeros((len(ground_vectors), 2))\n",
    "        for i, vec in enumerate(ground_vectors):\n",
    "            posteriors[i, :] = choose_best_mixture(gmf, remaining_components[0], remaining_components[1], vec, remaining_components[2])\n",
    "    \n",
    "    elif latent_component is 'vehicle':\n",
    "        posteriors = np.zeros((len(vehicle_vectors), 2))\n",
    "        for i, vec in enumerate(vehicle_vectors):\n",
    "            posteriors[i, :] = choose_best_mixture(gmf, remaining_components[0], remaining_components[1], remaining_components[2], vec)\n",
    "    \n",
    "    m = np.argmax(posteriors[:, 1])\n",
    "    return latent_component, m, posteriors[m, 0], posteriors[m, 1]\n",
    "    \n",
    "def choose_best_mixture(gmm, topic, event, ground, vehicle):\n",
    "    '''\n",
    "    Given four vector components, return the MAP estimate of which Gaussian component the vectors should\n",
    "    belong to.\n",
    "    \n",
    "    i.e. choose the best model for and probability of the given data\n",
    "    '''\n",
    "    redu_topic = decomp_topic.transform(np.atleast_2d(topic))\n",
    "    redu_event = decomp_event.transform(np.atleast_2d(event))\n",
    "    redu_ground = decomp_ground.transform(np.atleast_2d(ground))\n",
    "    redu_vehicle = decomp_vehicle.transform(np.atleast_2d(vehicle))\n",
    "    \n",
    "    redu_all = np.hstack([redu_topic, redu_event, redu_ground, redu_vehicle])\n",
    "    \n",
    "    posteriors = np.zeros(n_comps)\n",
    "    \n",
    "    for gmm_comp in range(n_comps):\n",
    "        mean = gmm.means_[gmm_comp, :]\n",
    "        cov = gmm.covariances_[gmm_comp, :, :]\n",
    "        \n",
    "        rv = multivariate_normal(mean=mean, cov=cov)\n",
    "                \n",
    "        posteriors[gmm_comp] = rv.logpdf(redu_all) \n",
    "                        \n",
    "    return (np.argmax(posteriors), np.max(posteriors))"
   ]
  },
  {
   "cell_type": "code",
   "execution_count": null,
   "metadata": {},
   "outputs": [],
   "source": [
    "def piece_fit(fit):\n",
    "    complete = {}\n",
    "    for comp_ix in component_ixs:\n",
    "        tag = component_tags[comp_ix]\n",
    "\n",
    "        if comp_ix in fit[:, 0].astype(int):\n",
    "            w = np.where(fit[:, 0].astype(int) == comp_ix)[0]\n",
    "            text = get_component(int(fit[w, 1]), tag)\n",
    "            complete[tag] = text\n",
    "        else:\n",
    "            complete[tag] = \" \".join(inp[\"tokens\"][inp[tag]])\n",
    "\n",
    "    return complete\n",
    "\n",
    "def format_simile(components):\n",
    "    t = components['topic']\n",
    "    e = components['event']\n",
    "    g = components['ground']\n",
    "    v = components['vehicle']\n",
    "    if g and t and e and v:\n",
    "        return f'{t} {e} as {g} as {v}'\n",
    "    elif not g and t and e and v:\n",
    "        return f'{t} {e} like {v}'\n",
    "    elif not t and g and not e and v:\n",
    "        return f'{g} like {v}'\n",
    "    elif not e and t and g and v:\n",
    "        return f'{t} as {g} as {v}'\n",
    "    else:\n",
    "        return components"
   ]
  },
  {
   "cell_type": "code",
   "execution_count": 332,
   "metadata": {},
   "outputs": [
    {
     "data": {
      "text/plain": [
       "'My mind clatters like a wave of the wild sea'"
      ]
     },
     "execution_count": 332,
     "metadata": {},
     "output_type": "execute_result"
    }
   ],
   "source": [
    "inp = {'original': 'My mind', 'topic': [0,1], 'ground': None, 'event': None, 'vehicle': None}\n",
    "inp['tokens'] = np.array([tk.text for tk in nlp(inp['original'])])\n",
    "\n",
    "z = cycle_latent_data(inp)\n",
    "\n",
    "best_fit = np.argmax(np.sum(z[:, :, 3], axis=1))\n",
    "\n",
    "format_simile(piece_fit(z[best_fit]))"
   ]
  },
  {
   "cell_type": "code",
   "execution_count": null,
   "metadata": {},
   "outputs": [],
   "source": []
  }
 ],
 "metadata": {
  "kernelspec": {
   "display_name": "Python 3",
   "language": "python",
   "name": "python3"
  },
  "language_info": {
   "codemirror_mode": {
    "name": "ipython",
    "version": 3
   },
   "file_extension": ".py",
   "mimetype": "text/x-python",
   "name": "python",
   "nbconvert_exporter": "python",
   "pygments_lexer": "ipython3",
   "version": "3.6.3"
  }
 },
 "nbformat": 4,
 "nbformat_minor": 2
}
