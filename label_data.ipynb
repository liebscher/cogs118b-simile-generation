{
 "cells": [
  {
   "cell_type": "code",
   "execution_count": null,
   "metadata": {},
   "outputs": [],
   "source": [
    "import pandas as pd\n",
    "\n",
    "import spacy\n",
    "\n",
    "nlp = spacy.load('en_core_web_sm')"
   ]
  },
  {
   "cell_type": "code",
   "execution_count": null,
   "metadata": {},
   "outputs": [],
   "source": [
    "similes = pd.read_table('similes.txt', header=None, names=['simile'])\n",
    "\n",
    "%time similes['nlp'] = similes['simile'].apply(lambda text: nlp(text))"
   ]
  },
  {
   "cell_type": "code",
   "execution_count": null,
   "metadata": {},
   "outputs": [],
   "source": [
    "def make_list(inp):    \n",
    "    return list(map(int, inp.split()))"
   ]
  },
  {
   "cell_type": "code",
   "execution_count": null,
   "metadata": {},
   "outputs": [],
   "source": [
    "output = []\n",
    "\n",
    "sentences = pd.read_json('similes.json', orient='records')\n",
    "samples = similes[~similes['simile'].isin(sentences['original'])]\n",
    "\n",
    "print(f'Max Samples: {len(samples)}')\n",
    "\n",
    "count = int(input('How many samples to label?'))\n",
    "print()\n",
    "\n",
    "\n",
    "samples = samples.sample(count)\n",
    "\n",
    "\n",
    "for ix, sample in samples.iterrows():\n",
    "    \n",
    "    tokens = [tk.text for tk in sample['nlp']]\n",
    "    \n",
    "    tks = ''\n",
    "    for i, tk in enumerate(tokens):\n",
    "        tks += f'{i}_{tk} '\n",
    "        \n",
    "    print(tks)\n",
    "    \n",
    "    res = {'original': sample['simile']}\n",
    "    \n",
    "    topic = input('Topic tokens?')\n",
    "    \n",
    "    if topic == '-':\n",
    "        print()\n",
    "        continue\n",
    "        \n",
    "    res['topic'] = make_list(topic)\n",
    "    \n",
    "    event = input('Event tokens?')\n",
    "    res['event'] = make_list(event)\n",
    "    \n",
    "    ground = input('Ground tokens?')\n",
    "    res['ground'] = make_list(ground)\n",
    "    \n",
    "    vehicle = input('Vehicle tokens?')\n",
    "    res['vehicle'] = make_list(vehicle)\n",
    "\n",
    "    output.append(res)\n",
    "    print()\n",
    "    \n",
    "output = pd.DataFrame(output)"
   ]
  },
  {
   "cell_type": "code",
   "execution_count": null,
   "metadata": {
    "scrolled": true
   },
   "outputs": [],
   "source": [
    "output"
   ]
  },
  {
   "cell_type": "code",
   "execution_count": null,
   "metadata": {},
   "outputs": [],
   "source": [
    "new = pd.concat([sentences, output], axis=0)\n",
    "\n",
    "new.to_json('similes.json', orient='records')"
   ]
  },
  {
   "cell_type": "code",
   "execution_count": null,
   "metadata": {},
   "outputs": [],
   "source": []
  }
 ],
 "metadata": {
  "kernelspec": {
   "display_name": "Python 3",
   "language": "python",
   "name": "python3"
  },
  "language_info": {
   "codemirror_mode": {
    "name": "ipython",
    "version": 3
   },
   "file_extension": ".py",
   "mimetype": "text/x-python",
   "name": "python",
   "nbconvert_exporter": "python",
   "pygments_lexer": "ipython3",
   "version": "3.6.3"
  }
 },
 "nbformat": 4,
 "nbformat_minor": 2
}
